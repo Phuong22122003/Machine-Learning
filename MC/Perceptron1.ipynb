{
 "cells": [
  {
   "cell_type": "code",
   "execution_count": 10,
   "metadata": {},
   "outputs": [],
   "source": [
    "import numpy as np \n",
    "import matplotlib.pyplot as plt\n",
    "from scipy.spatial.distance import cdist"
   ]
  },
  {
   "cell_type": "code",
   "execution_count": 11,
   "metadata": {},
   "outputs": [
    {
     "name": "stdout",
     "output_type": "stream",
     "text": [
      "[[1.         1.         1.         1.         1.         1.\n",
      "  1.         1.         1.         1.         1.         1.\n",
      "  1.         1.         1.         1.         1.         1.\n",
      "  1.         1.        ]\n",
      " [2.22096057 2.70132234 3.08493823 2.02701417 2.73223639 1.21171968\n",
      "  2.22920603 1.8637762  1.74682699 2.37191737 4.47403369 4.09281249\n",
      "  4.22222334 4.58438569 4.74493118 3.6355797  5.19217738 3.51075436\n",
      "  3.93784332 3.8787214 ]\n",
      " [2.19579728 3.43487375 2.70849736 1.47010441 2.32571583 2.23682627\n",
      "  1.72925457 1.59716548 2.27230351 2.37595358 2.4040742  1.65061706\n",
      "  2.11659863 2.05326933 2.67628604 2.63347726 3.2425902  2.11880111\n",
      "  1.56029947 2.12126884]]\n"
     ]
    }
   ],
   "source": [
    "np.random.seed(2)\n",
    "\n",
    "means = [[2, 2], [4, 2]]\n",
    "cov = [[.3, .2], [.2, .3]]\n",
    "N = 10\n",
    "X0 = np.random.multivariate_normal(means[0], cov, N).T\n",
    "X1 = np.random.multivariate_normal(means[1], cov, N).T\n",
    "\n",
    "\n",
    "X = np.concatenate((X0, X1), axis = 1)\n",
    "\n",
    "y = np.concatenate((np.ones((1, N)), -1*np.ones((1, N))), axis = 1)\n",
    "# Xbar \n",
    "X = np.concatenate((np.ones((1, 2*N)), X), axis = 0)\n",
    "print(X)\n"
   ]
  },
  {
   "cell_type": "code",
   "execution_count": 32,
   "metadata": {},
   "outputs": [
    {
     "name": "stdout",
     "output_type": "stream",
     "text": [
      "[[-0.41675785]\n",
      " [-0.05626683]\n",
      " [-2.1361961 ]]\n",
      "=================\n",
      "6\n",
      "[[ 1.58324215]\n",
      " [-1.3549558 ]\n",
      " [ 1.04438933]]\n"
     ]
    }
   ],
   "source": [
    "np.random.seed(2)\n",
    "def check(y,X,w):\n",
    "        y_check = np.sign(np.dot(w.T,X))\n",
    "        if np.linalg.norm(y_check-y)==0:\n",
    "              return True\n",
    "        else: return False\n",
    "\n",
    "def perceptron(y,X,w_init):\n",
    "        if check(y,X,w_init) == True:return\n",
    "        w = [w_init] \n",
    "        i = 0\n",
    "        while True:\n",
    "                index = np.random.randint(0,X.shape[1])\n",
    "                y_check = np.sign(np.dot(w[-1].T,X[:,index]))[0]\n",
    "                if y_check != y[0,index]:\n",
    "                        w_new = w[-1]+ y[0,index]*(X[:,index].reshape(3,1))\n",
    "                        # input()\n",
    "                        # print(y[0,index]*(X[:,index].reshape(3,1)))\n",
    "                        w.append(w_new)\n",
    "                        i+=1\n",
    "                if check(y,X,w[-1]) == True:\n",
    "                        print(\"=================\")\n",
    "                        print(i)\n",
    "                        break\n",
    "        return w\n",
    "\n",
    "d = X.shape[0]\n",
    "w_init = np.random.randn(d, 1)\n",
    "print(w_init)\n",
    "w = perceptron(y, X, w_init)\n",
    "\n",
    "print(w[-1])"
   ]
  },
  {
   "cell_type": "code",
   "execution_count": 17,
   "metadata": {},
   "outputs": [],
   "source": [
    "# # generate data\n",
    "# # list of points \n",
    "# import numpy as np \n",
    "# import matplotlib.pyplot as plt\n",
    "# from scipy.spatial.distance import cdist\n",
    "# np.random.seed(2)\n",
    "\n",
    "# means = [[2, 2], [4, 2]]\n",
    "# cov = [[.3, .2], [.2, .3]]\n",
    "# N = 10\n",
    "# X0 = np.random.multivariate_normal(means[0], cov, N).T\n",
    "# X1 = np.random.multivariate_normal(means[1], cov, N).T\n",
    "\n",
    "# X = np.concatenate((X0, X1), axis = 1)\n",
    "# y = np.concatenate((np.ones((1, N)), -1*np.ones((1, N))), axis = 1)\n",
    "# # Xbar \n",
    "# X = np.concatenate((np.ones((1, 2*N)), X), axis = 0)\n",
    "\n",
    "# def h(w, x):    \n",
    "#     return np.sign(np.dot(w.T, x))\n",
    "\n",
    "# def has_converged(X, y, w):    \n",
    "#     return np.array_equal(h(w, X), y) \n",
    "\n",
    "# def perceptron(X, y, w_init):\n",
    "#     w = [w_init]\n",
    "#     N = X.shape[1]\n",
    "#     d = X.shape[0]\n",
    "#     mis_points = []\n",
    "#     i=0\n",
    "#     while True:\n",
    "#         # mix data \n",
    "#         mix_id = np.random.permutation(N)\n",
    "#         for i in range(N):\n",
    "#             xi = X[:, mix_id[i]].reshape(d, 1)\n",
    "#             yi = y[0, mix_id[i]]\n",
    "#             if h(w[-1], xi)[0] != yi: # misclassified point\n",
    "#                 mis_points.append(mix_id[i])\n",
    "#                 w_new = w[-1] + yi*xi \n",
    "#                 w.append(w_new)\n",
    "                \n",
    "#         if has_converged(X, y, w[-1]):\n",
    "#             print(i)\n",
    "#             break\n",
    "#     return (w, mis_points)\n",
    "\n",
    "# d = X.shape[0]\n",
    "# w_init = np.random.randn(d, 1)\n",
    "# (w, m) = perceptron(X, y, w_init)\n",
    "\n",
    "# print(w)\n"
   ]
  },
  {
   "cell_type": "code",
   "execution_count": 33,
   "metadata": {},
   "outputs": [
    {
     "name": "stderr",
     "output_type": "stream",
     "text": [
      "MovieWriter imagemagick unavailable; using Pillow instead.\n"
     ]
    },
    {
     "data": {
      "image/png": "[encoded data removed]",
      "text/plain": [
       "<Figure size 500x500 with 1 Axes>"
      ]
     },
     "metadata": {},
     "output_type": "display_data"
    }
   ],
   "source": [
    "def draw_line(w):\n",
    "    w0, w1, w2 = w[0], w[1], w[2]\n",
    "    if w2 != 0:\n",
    "        x11, x12 = -100, 100\n",
    "        return plt.plot([x11, x12], [-(w1*x11 + w0)/w2, -(w1*x12 + w0)/w2], 'k')\n",
    "    else:\n",
    "        x10 = -w0/w1\n",
    "        return plt.plot([x10, x10], [-100, 100], 'k')\n",
    "\n",
    "\n",
    "## Visualization\n",
    "import matplotlib.animation as animation\n",
    "from matplotlib.animation import FuncAnimation \n",
    "def viz_alg_1d_2(w):\n",
    "    it = len(w)    \n",
    "    fig, ax = plt.subplots(figsize=(5, 5))  \n",
    "    \n",
    "    def update(i):\n",
    "        ani = plt.cla()\n",
    "        #points\n",
    "        ani = plt.plot(X0[0, :], X0[1, :], 'b^', markersize = 8, alpha = .8)\n",
    "        ani = plt.plot(X1[0, :], X1[1, :], 'ro', markersize = 8, alpha = .8)\n",
    "        ani = plt.axis([0 , 6, -2, 4])\n",
    "        i2 =  i if i < it else it-1\n",
    "        ani = draw_line(w[i2])\n",
    "        if i < it-1:\n",
    "            # draw one  misclassified point\n",
    "            circle = plt.Circle((X[1, m[i]], X[2, m[i]]), 0.15, color='k', fill = False)\n",
    "            ax.add_artist(circle)\n",
    "        # hide axis \n",
    "        cur_axes = plt.gca()\n",
    "        cur_axes.axes.get_xaxis().set_ticks([])\n",
    "        cur_axes.axes.get_yaxis().set_ticks([])\n",
    "\n",
    "        label = 'PLA: iter %d/%d' %(i2, it-1)\n",
    "        ax.set_xlabel(label)\n",
    "        return ani, ax \n",
    "        \n",
    "    anim = FuncAnimation(fig, update, frames=np.arange(0, it + 2), interval=1000)\n",
    "    # save \n",
    "    anim.save('pla_vis.gif', dpi = 100, writer = 'imagemagick')\n",
    "    plt.show()\n",
    "    \n",
    "viz_alg_1d_2(w)"
   ]
  }
 ],
 "metadata": {
  "kernelspec": {
   "display_name": "Python 3",
   "language": "python",
   "name": "python3"
  },
  "language_info": {
   "codemirror_mode": {
    "name": "ipython",
    "version": 3
   },
   "file_extension": ".py",
   "mimetype": "text/x-python",
   "name": "python",
   "nbconvert_exporter": "python",
   "pygments_lexer": "ipython3",
   "version": "3.11.2"
  },
  "orig_nbformat": 4
 },
 "nbformat": 4,
 "nbformat_minor": 2
}
