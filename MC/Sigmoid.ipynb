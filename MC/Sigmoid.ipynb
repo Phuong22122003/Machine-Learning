{
  "cells": [
    {
      "cell_type": "code",
      "execution_count": null,
      "metadata": {
        "id": "XY8US1zSMcDe"
      },
      "outputs": [],
      "source": [
        "import pylab\n",
        "from matplotlib import gridspec\n",
        "from sklearn.datasets import make_classification\n",
        "import numpy as np\n",
        "from ipywidgets import interact, interactive, fixed\n",
        "import ipywidgets as widgets\n",
        "import pickle\n",
        "import os\n",
        "import gzip\n",
        "\n",
        "np.random.seed(1)\n",
        "import random"
      ]
    },
    {
      "cell_type": "code",
      "execution_count": null,
      "metadata": {
        "colab": {
          "base_uri": "https://localhost:8080/"
        },
        "id": "T_RPOle4P9oS",
        "outputId": "1e31ad7c-3795-415c-806e-8c81b7aec25b"
      },
      "outputs": [],
      "source": [
        "n = 50\n",
        "X, Y = make_classification(n_samples = n, n_features=2,\n",
        "                           n_redundant=0, n_informative=2, flip_y=0)\n",
        "Y = Y*2-1 # đổi giá trị 0/1 sang -1/1\n",
        "X = X.astype(np.float32); Y = Y.astype(np.int32) # features - float, label - int\n",
        "\n",
        "# Chia dataset thành training và test\n",
        "train_x, test_x = np.split(X, [ n*8//10])\n",
        "train_labels, test_labels = np.split(Y, [n*8//10])\n",
        "print(\"Features:\\n\",train_x[0:4])\n",
        "print(\"Labels:\\n\",train_labels[0:4])"
      ]
    },
    {
      "cell_type": "code",
      "execution_count": null,
      "metadata": {
        "colab": {
          "base_uri": "https://localhost:8080/",
          "height": 500
        },
        "id": "TQOyxzaHQPN_",
        "outputId": "0a019573-47ca-4d4e-e70d-6251bc397762"
      },
      "outputs": [],
      "source": [
        "def plot_dataset(suptitle, features, labels):\n",
        "    # prepare the plot\n",
        "    fig, ax = pylab.subplots(1, 1)\n",
        "    #pylab.subplots_adjust(bottom=0.2, wspace=0.4)\n",
        "    fig.suptitle(suptitle, fontsize = 16)\n",
        "    ax.set_xlabel('$x_i[0]$ -- (feature 1)')\n",
        "    ax.set_ylabel('$x_i[1]$ -- (feature 2)')\n",
        "\n",
        "    colors = ['r' if l>0 else 'b' for l in labels]\n",
        "    ax.scatter(features[:, 0], features[:, 1], marker='o', c=colors, s=100, alpha = 0.5)\n",
        "    fig.show()\n",
        "\n",
        "plot_dataset('Training data', train_x, train_labels)"
      ]
    },
    {
      "cell_type": "code",
      "execution_count": null,
      "metadata": {
        "colab": {
          "base_uri": "https://localhost:8080/"
        },
        "id": "K2yMITOFSn4o",
        "outputId": "c9829386-be05-4f06-a025-0ff41b34f619"
      },
      "outputs": [],
      "source": [
        "pos_examples = np.array([ [t[0], t[1], 1] for i,t in enumerate(train_x)\n",
        "                          if train_labels[i]>0])\n",
        "neg_examples = np.array([ [t[0], t[1], 1] for i,t in enumerate(train_x)\n",
        "                          if train_labels[i]<0])\n",
        "print(pos_examples[0:3])"
      ]
    },
    {
      "cell_type": "code",
      "execution_count": null,
      "metadata": {
        "colab": {
          "base_uri": "https://localhost:8080/"
        },
        "id": "i2KyWW5gWIVr",
        "outputId": "7a5d878f-4bd7-4724-aafc-83ac2900041b"
      },
      "outputs": [],
      "source": [
        "def train(positive_examples, negative_examples, num_iterations = 100):\n",
        "    num_dims = positive_examples.shape[1]\n",
        "\n",
        "    # Khởi tạo giá trị ban đầu cho weights.\n",
        "    # Để đơn giản khởi tạo tất cả trọng số = 0, tuy nhiên khuyến khích khởi tạo giá trị ngẫu nhiên\n",
        "    weights = np.zeros((num_dims,1))\n",
        "\n",
        "    pos_count = positive_examples.shape[0]\n",
        "    neg_count = negative_examples.shape[0]\n",
        "\n",
        "    report_frequency = 10\n",
        "    max_h = 0\n",
        "    optim_w =[]\n",
        "    for i in range(num_iterations):\n",
        "        # Lấy một positive và một neg\n",
        "        pos = random.choice(positive_examples)\n",
        "        neg = random.choice(negative_examples)\n",
        "\n",
        "        z = np.dot(pos, weights)\n",
        "        if z < 0: # positive phân loại thành negative\n",
        "            weights = weights + pos.reshape(weights.shape)\n",
        "\n",
        "        z  = np.dot(neg, weights)\n",
        "        if z >= 0: # negative phân loại thành positive\n",
        "            weights = weights - neg.reshape(weights.shape)\n",
        "# Định kỳ in độ chính xác\n",
        "        if i % report_frequency == 0:\n",
        "            pos_out = np.dot(positive_examples, weights)\n",
        "            neg_out = np.dot(negative_examples, weights)\n",
        "            pos_correct = (pos_out >= 0).sum() / float(pos_count)\n",
        "            neg_correct = (neg_out < 0).sum() / float(neg_count)\n",
        "            h = pos_correct*pos_count/(pos_count+neg_count)+ neg_correct*neg_count/(pos_count+neg_count)\n",
        "            if max_h <h:\n",
        "              max_h =h\n",
        "              optim_w= weights\n",
        "            print(\"Iteration={}, pos correct={}, neg correct={}\".format(i,pos_correct,neg_correct))\n",
        "\n",
        "    return weights,optim_w\n",
        "weight,optim_w = train(pos_examples,neg_examples)\n",
        "print(weight)\n",
        "print(optim_w)"
      ]
    },
    {
      "cell_type": "code",
      "execution_count": null,
      "metadata": {
        "colab": {
          "base_uri": "https://localhost:8080/",
          "height": 435
        },
        "id": "HJu2mqxZhhdm",
        "outputId": "08225cd3-b395-4c7c-db16-62cae249798c"
      },
      "outputs": [],
      "source": [
        "def plot_boundary(positive_examples, negative_examples, weights):\n",
        "    if np.isclose(weights[1], 0):\n",
        "        if np.isclose(weights[0], 0):\n",
        "            x = y = np.array([-6, 6], dtype = 'float32')\n",
        "        else:\n",
        "            y = np.array([-6, 6], dtype='float32')\n",
        "            x = -(weights[1] * y + weights[2])/weights[0]\n",
        "    else:\n",
        "        x = np.array([-6, 6], dtype='float32')\n",
        "        y = -(weights[0] * x + weights[2])/weights[1]\n",
        "\n",
        "    pylab.xlim(-6, 6)\n",
        "    pylab.ylim(-6, 6)\n",
        "    pylab.plot(positive_examples[:,0], positive_examples[:,1], 'bo')\n",
        "    pylab.plot(negative_examples[:,0], negative_examples[:,1], 'ro')\n",
        "    pylab.plot(x, y, 'g', linewidth=2.0)\n",
        "    pylab.show()\n",
        "plot_boundary(pos_examples,neg_examples,optim_w)"
      ]
    },
    {
      "cell_type": "code",
      "execution_count": null,
      "metadata": {
        "colab": {
          "base_uri": "https://localhost:8080/",
          "height": 435
        },
        "id": "dhRYZYrAb2My",
        "outputId": "179d1be5-081d-426d-bea5-81980949e699"
      },
      "outputs": [],
      "source": [
        "def plot_boundary(positive_examples, negative_examples, weights):\n",
        "    if np.isclose(weights[1], 0):\n",
        "        if np.isclose(weights[0], 0):\n",
        "            x = y = np.array([-6, 6], dtype = 'float32')\n",
        "        else:\n",
        "            y = np.array([-6, 6], dtype='float32')\n",
        "            x = -(weights[1] * y + weights[2])/weights[0]\n",
        "    else:\n",
        "        x = np.array([-6, 6], dtype='float32')\n",
        "        y = -(weights[0] * x + weights[2])/weights[1]\n",
        "\n",
        "    pylab.xlim(-6, 6)\n",
        "    pylab.ylim(-6, 6)\n",
        "    pylab.plot(positive_examples[:,0], positive_examples[:,1], 'bo')\n",
        "    pylab.plot(negative_examples[:,0], negative_examples[:,1], 'ro')\n",
        "    pylab.plot(x, y, 'g', linewidth=2.0)\n",
        "    pylab.show()\n",
        "plot_boundary(pos_examples,neg_examples,weight)"
      ]
    },
    {
      "cell_type": "code",
      "execution_count": null,
      "metadata": {
        "colab": {
          "base_uri": "https://localhost:8080/"
        },
        "id": "30-jaKLzcbPn",
        "outputId": "54677708-440b-4bd4-e4a7-c65348e3faec"
      },
      "outputs": [],
      "source": [
        "def accuracy(weights, test_x, test_labels):\n",
        "    res = np.dot(np.c_[test_x,np.ones(len(test_x))],weights)\n",
        "    return (res.reshape(test_labels.shape)*test_labels>=0).sum()/float(len(test_labels))\n",
        "\n",
        "accuracy(weight, test_x, test_labels)"
      ]
    },
    {
      "cell_type": "code",
      "execution_count": null,
      "metadata": {
        "colab": {
          "base_uri": "https://localhost:8080/",
          "height": 910,
          "referenced_widgets": [
            "f447dccfe5664f61bea2a8840985d965",
            "4be981ad2b2c42b180a0b63a7c9ec791",
            "05a35567a7ea407ab99cbc9962dc731b",
            "0bc778435c014d28a9061af39059a84d",
            "acd30114f09d4c698125e1c811dc2998",
            "c59bfd40e12145bfb0f2875c93e470ef",
            "22395cddaaa3467e9be000fc15f31818"
          ]
        },
        "id": "XDwO6b8NdMud",
        "outputId": "830930d1-2833-4137-dc9f-270408387264"
      },
      "outputs": [],
      "source": [
        "def train_graph(positive_examples, negative_examples, num_iterations = 100):\n",
        "    num_dims = positive_examples.shape[1]\n",
        "    weights = np.zeros((num_dims,1)) # initialize weights\n",
        "\n",
        "    pos_count = positive_examples.shape[0]\n",
        "    neg_count = negative_examples.shape[0]\n",
        "\n",
        "    report_frequency = 15;\n",
        "    snapshots = []\n",
        "    for i in range(num_iterations):\n",
        "        pos = random.choice(positive_examples)\n",
        "        neg = random.choice(negative_examples)\n",
        "\n",
        "        z = np.dot(pos, weights)\n",
        "        if z < 0:\n",
        "            weights = weights + pos.reshape(weights.shape)\n",
        "\n",
        "        z  = np.dot(neg, weights)\n",
        "        if z >= 0:\n",
        "            weights = weights - neg.reshape(weights.shape)\n",
        "        if i % report_frequency == 0:\n",
        "            pos_out = np.dot(positive_examples, weights)\n",
        "            neg_out = np.dot(negative_examples, weights)\n",
        "            pos_correct = (pos_out >= 0).sum() / float(pos_count)\n",
        "            neg_correct = (neg_out < 0).sum() / float(neg_count)\n",
        "            snapshots.append((np.copy(weights),(pos_correct+neg_correct)/2.0))\n",
        "\n",
        "    return np.array(snapshots)\n",
        "snapshots = train_graph(pos_examples,neg_examples)\n",
        "def plotit(pos_examples,neg_examples,snapshots,step):\n",
        "    fig = pylab.figure(figsize=(10,4))\n",
        "    fig.add_subplot(1, 2, 1)\n",
        "    plot_boundary(pos_examples, neg_examples, snapshots[step][0])\n",
        "    fig.add_subplot(1, 2, 2)\n",
        "    pylab.plot(np.arange(len(snapshots[:,1])), snapshots[:,1])\n",
        "    pylab.ylabel('Accuracy')\n",
        "    pylab.xlabel('Iteration')\n",
        "    pylab.plot(step, snapshots[step,1], \"bo\")\n",
        "    pylab.show()\n",
        "def pl1(step): plotit(pos_examples,neg_examples,snapshots,step)\n",
        "interact(pl1, step=widgets.IntSlider(value=0, min=0, max=len(snapshots)-1))"
      ]
    },
    {
      "cell_type": "code",
      "execution_count": null,
      "metadata": {
        "id": "pW9g2zL9jUAh"
      },
      "outputs": [],
      "source": [
        "input_vector = [1.72, 1.23]\n",
        "weights_1 = [1.26, 0]\n",
        "weights_2 = [2.17, 0.32]\n",
        "first_indexes_mult = input_vector[0] * weights_2[0]\n",
        "second_indexes_mult = input_vector[1] * weights_2[1]\n",
        "dot_product_1 = first_indexes_mult + second_indexes_mult"
      ]
    },
    {
      "cell_type": "code",
      "execution_count": null,
      "metadata": {
        "id": "_MLVUh4CjWVY"
      },
      "outputs": [],
      "source": [
        "irst_indexes_mult = input_vector[0] * weights_1[0]\n",
        "second_indexes_mult = input_vector[1] * weights_1[1]\n",
        "dot_product_1 = first_indexes_mult + second_indexes_mult"
      ]
    },
    {
      "cell_type": "code",
      "execution_count": null,
      "metadata": {
        "colab": {
          "base_uri": "https://localhost:8080/"
        },
        "id": "qMWcPw0RkPbV",
        "outputId": "9368f86b-aa93-4276-ff1f-689dd1c7b02b"
      },
      "outputs": [],
      "source": [
        "irst_indexes_mult = input_vector[0] * weights_1[0]\n",
        "second_indexes_mult = input_vector[1] * weights_1[1]\n",
        "dot_product_1 = first_indexes_mult + second_indexes_mult\n",
        "import numpy as np\n",
        "dot_product_1 = np.dot(input_vector, weights_1)\n",
        "print(f\"The dot product is: {dot_product_1}\")\n",
        "dot_product_2 = np.dot(input_vector, weights_2)\n",
        "print(f\"The dot product is: {dot_product_2}\")"
      ]
    },
    {
      "cell_type": "code",
      "execution_count": null,
      "metadata": {
        "id": "FwkOJPvxkXTN"
      },
      "outputs": [],
      "source": [
        "input_vector = np.array([1.66, 1.56])\n",
        "weights_1 = np.array([1.45, -0.66])\n",
        "bias = np.array([0.0])"
      ]
    },
    {
      "cell_type": "code",
      "execution_count": null,
      "metadata": {
        "id": "1KQ--H-lkvdd"
      },
      "outputs": [],
      "source": [
        "def sigmoid(x):\n",
        "    return 1 / (1 + np.exp(-x))\n",
        "\n",
        "def make_prediction(input_vector, weights, bias):\n",
        "    layer_1 = np.dot(input_vector, weights) + bias\n",
        "    layer_2 = sigmoid(layer_1)\n",
        "    return layer_2"
      ]
    },
    {
      "cell_type": "code",
      "execution_count": null,
      "metadata": {
        "id": "cjHsiOyulbyL"
      },
      "outputs": [],
      "source": [
        "input_vector = np.array([3, 1.5])"
      ]
    },
    {
      "cell_type": "code",
      "execution_count": null,
      "metadata": {
        "colab": {
          "base_uri": "https://localhost:8080/"
        },
        "id": "CBrwyFxolFSU",
        "outputId": "c8514b66-5d1b-4923-abe7-cdffa215ec28"
      },
      "outputs": [],
      "source": [
        "prediction = make_prediction(input_vector,weights_1,bias)\n",
        "print(prediction)"
      ]
    },
    {
      "cell_type": "code",
      "execution_count": null,
      "metadata": {
        "colab": {
          "base_uri": "https://localhost:8080/"
        },
        "id": "VWoWNyq4mtTe",
        "outputId": "f9e53134-b857-43d7-c819-737ea3a5bbe2"
      },
      "outputs": [],
      "source": [
        "target = 0\n",
        "\n",
        "mse = np.square(prediction - target)\n",
        "\n",
        "print(f\"Prediction: {prediction}; Error: {mse}\")"
      ]
    },
    {
      "cell_type": "code",
      "execution_count": null,
      "metadata": {
        "colab": {
          "base_uri": "https://localhost:8080/"
        },
        "id": "EyQOfbGRm-H0",
        "outputId": "bcf28a04-2dad-4383-abf7-9f3f040dcd6d"
      },
      "outputs": [],
      "source": [
        "derivative = 2 * (prediction - target)\n",
        "\n",
        "print(f\"The derivative is {derivative}\")\n",
        "weights_1 = weights_1 - derivative\n",
        "\n",
        "prediction = make_prediction(input_vector, weights_1, bias)\n",
        "\n",
        "error = (prediction - target) ** 2\n",
        "\n",
        "print(f\"Prediction: {prediction}; Error: {error}\")"
      ]
    },
    {
      "cell_type": "code",
      "execution_count": null,
      "metadata": {
        "colab": {
          "base_uri": "https://localhost:8080/"
        },
        "id": "gRAKlFeJqsSA",
        "outputId": "e561e7bc-6570-4788-ce0d-5d181be2d404"
      },
      "outputs": [],
      "source": [
        "learning_rate = 0.001\n",
        "\n",
        "neural_network = NeuralNetwork(learning_rate)\n",
        "\n",
        "neural_network.predict(input_vector)"
      ]
    },
    {
      "cell_type": "code",
      "execution_count": null,
      "metadata": {
        "id": "zEMuE6aboZVh"
      },
      "outputs": [],
      "source": [
        "def sigmoid_deriv(x):\n",
        "    return sigmoid(x) * (1-sigmoid(x))\n",
        "\n",
        "derror_dprediction = 2 * (prediction - target)\n",
        "layer_1 = np.dot(input_vector, weights_1) + bias\n",
        "dprediction_dlayer1 = sigmoid_deriv(layer_1)\n",
        "dlayer1_dbias = 1\n",
        "\n",
        "derror_dbias = (\n",
        "    derror_dprediction * dprediction_dlayer1 * dlayer1_dbias\n",
        ")"
      ]
    },
    {
      "cell_type": "code",
      "execution_count": null,
      "metadata": {
        "id": "Cil77kKfqMFC"
      },
      "outputs": [],
      "source": [
        "class NeuralNetwork:\n",
        "    def __init__(self, learning_rate):\n",
        "        self.weights = np.array([np.random.randn(), np.random.randn()])\n",
        "        self.bias = np.random.randn()\n",
        "        self.learning_rate = learning_rate\n",
        "\n",
        "    def _sigmoid(self, x):\n",
        "        return 1 / (1 + np.exp(-x))\n",
        "\n",
        "    def _sigmoid_deriv(self, x):\n",
        "        return self._sigmoid(x) * (1 - self._sigmoid(x))\n",
        "    def predict(self, input_vector):\n",
        "        layer_1 = np.dot(input_vector, self.weights) + self.bias\n",
        "        layer_2 = self._sigmoid(layer_1)\n",
        "        prediction = layer_2\n",
        "        return prediction\n",
        "\n",
        "    def _compute_gradients(self, input_vector, target):\n",
        "        layer_1 = np.dot(input_vector, self.weights) + self.bias\n",
        "        layer_2 = self._sigmoid(layer_1)\n",
        "        prediction = layer_2\n",
        "        derror_dprediction = 2 * (prediction - target)\n",
        "        dprediction_dlayer1 = self._sigmoid_deriv(layer_1)\n",
        "        dlayer1_dbias = 1\n",
        "        dlayer1_dweights = (0 * self.weights) + (1 * input_vector)\n",
        "\n",
        "        derror_dbias = (\n",
        "            derror_dprediction * dprediction_dlayer1 * dlayer1_dbias\n",
        "        )\n",
        "        derror_dweights = (\n",
        "            derror_dprediction * dprediction_dlayer1 * dlayer1_dweights\n",
        "        )\n",
        "\n",
        "        return derror_dbias, derror_dweights\n",
        "    def _update_parameters(self, derror_dbias, derror_dweights):\n",
        "        self.bias = self.bias - (derror_dbias * self.learning_rate)\n",
        "        self.weights = self.weights - ( derror_dweights * self.learning_rate)\n",
        "    def train(self, input_vectors, targets, iterations):\n",
        "        cumulative_errors = []\n",
        "        for current_iteration in range(iterations):\n",
        "            # Pick a data instance at random\n",
        "            random_data_index = np.random.randint(len(input_vectors))\n",
        "\n",
        "            input_vector = input_vectors[random_data_index]\n",
        "            target = targets[random_data_index]\n",
        "\n",
        "            # Compute the gradients and update the weights\n",
        "            derror_dbias, derror_dweights = self._compute_gradients(\n",
        "                input_vector, target\n",
        "            )\n",
        "\n",
        "            self._update_parameters(derror_dbias, derror_dweights)\n",
        "\n",
        "            # Measure the cumulative error for all the instances\n",
        "            if current_iteration % 100 == 0:\n",
        "                cumulative_error = 0\n",
        "                for data_instance_index in range(len(input_vectors)):\n",
        "                    data_point = input_vectors[data_instance_index]\n",
        "                    target = targets[data_instance_index]\n",
        "\n",
        "                    prediction = self.predict(data_point)\n",
        "                    error = np.square(prediction - target)\n",
        "\n",
        "                    cumulative_error = cumulative_error + error\n",
        "                cumulative_errors.append(cumulative_error)\n",
        "        return cumulative_errors"
      ]
    },
    {
      "cell_type": "code",
      "execution_count": null,
      "metadata": {
        "id": "YAI0VzC-uCGV"
      },
      "outputs": [],
      "source": [
        "import matplotlib.pyplot as plt\n",
        "\n",
        "input_vectors = np.array(\n",
        "    [\n",
        "        [3, 1.5],\n",
        "        [2, 1],\n",
        "        [4, 1.5],\n",
        "        [3, 4],\n",
        "        [3.5, 0.5],\n",
        "        [2, 0.5],\n",
        "        [5.5, 1],\n",
        "        [1, 1],\n",
        "    ]\n",
        ")\n",
        "targets = np.array([0, 1, 0, 1, 0, 1, 1, 0])\n",
        "learning_rate = 0.001\n",
        "\n",
        "neural_network = NeuralNetwork(learning_rate)\n",
        "\n",
        "training_error = neural_network.train(input_vectors, targets, 10000)"
      ]
    },
    {
      "cell_type": "code",
      "execution_count": null,
      "metadata": {
        "colab": {
          "base_uri": "https://localhost:8080/",
          "height": 449
        },
        "id": "i-jmmwuWuXFF",
        "outputId": "18305aac-34a8-447a-ece1-c65129941b79"
      },
      "outputs": [],
      "source": [
        "plt.plot(training_error)\n",
        "plt.xlabel(\"Iterations\")\n",
        "plt.ylabel(\"Error for all training instances\")\n",
        "plt.savefig(\"cumulative_error.png\")"
      ]
    }
  ],
  "metadata": {
    "colab": {
      "provenance": []
    },
    "kernelspec": {
      "display_name": "Python 3",
      "name": "python3"
    },
    "language_info": {
      "name": "python",
      "version": "3.11.4"
    },
    "widgets": {
      "application/vnd.jupyter.widget-state+json": {
        "05a35567a7ea407ab99cbc9962dc731b": {
          "model_module": "@jupyter-widgets/output",
          "model_module_version": "1.0.0",
          "model_name": "OutputModel",
          "state": {
            "_dom_classes": [],
            "_model_module": "@jupyter-widgets/output",
            "_model_module_version": "1.0.0",
            "_model_name": "OutputModel",
            "_view_count": null,
            "_view_module": "@jupyter-widgets/output",
            "_view_module_version": "1.0.0",
            "_view_name": "OutputView",
            "layout": "IPY_MODEL_22395cddaaa3467e9be000fc15f31818",
            "msg_id": "",
            "outputs": [
              {
                "data": {
                  "image/png": "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\n",
                  "text/plain": "<Figure size 1000x400 with 1 Axes>"
                },
                "metadata": {},
                "output_type": "display_data"
              },
              {
                "data": {
                  "image/png": "iVBORw0KGgoAAAANSUhEUgAAAkAAAAGwCAYAAABB4NqyAAAAOXRFWHRTb2Z0d2FyZQBNYXRwbG90bGliIHZlcnNpb24zLjcuMSwgaHR0cHM6Ly9tYXRwbG90bGliLm9yZy/bCgiHAAAACXBIWXMAAA9hAAAPYQGoP6dpAABWeUlEQVR4nO3deVhU9f4H8PfMwAz7CLIrgiuKAhoquZULaYqklWbqdbup135aKVqJipSmqKWXFtN7Tct7yyRNzVwz3LJUFEJAcQUD2RHZBtlmzu8PcG4EGShwZnm/nmeeJ49nhvfhSXl7Pud7jkQQBAFERERERkQqdgAiIiKilsYCREREREaHBYiIiIiMDgsQERERGR0WICIiIjI6LEBERERkdFiAiIiIyOiYiB1AF2k0GmRkZMDa2hoSiUTsOERERNQAgiCguLgYrq6ukEoffo6HBageGRkZcHNzEzsGERERPYK0tDS0bdv2ofuwANXD2toaQPU30MbGRuQ0RERE1BBFRUVwc3PT/hx/GBagejwYe9nY2LAAERER6ZmGXL7Ci6CJiIjI6LAAERERkdFhASIiIiKjwwJERERERocFiIiIiIwOCxAREREZHRYgIiIiMjosQERERGR0WICIiIjI6LAAERERkdHRiQK0ceNGeHh4wMzMDP7+/oiOjn7o/hEREfD09IS5uTnc3NywYMEClJWVaX//nXfegUQiqfXq2rVrcx8GERER6QnRnwUWGRmJ4OBgbN68Gf7+/oiIiMCIESNw7do1ODo61tl/x44dWLx4MbZt24b+/fvj+vXrmD59OiQSCTZs2KDdr3v37vjxxx+1vzYxEf1QiYiISEeI3go2bNiAWbNmYcaMGQCAzZs34+DBg9i2bRsWL15cZ/9ffvkFAwYMwKRJkwAAHh4emDhxIs6fP19rPxMTEzg7Ozf/ARARGSiNRkBWURk0giB2FL1gITeBnaVc7BjUQKIWoIqKCsTExCAkJES7TSqVIiAgAGfPnq33Pf3798eXX36J6Oho9O3bF8nJyTh06BCmTJlSa78bN27A1dUVZmZm6NevH8LDw9GuXbt6P7O8vBzl5eXaXxcVFTXB0RER6S9BELDgmzh8F5chdhS98tHEXnjO11XsGNQAohagvLw8qNVqODk51dru5OSEq1ev1vueSZMmIS8vDwMHDoQgCKiqqsKcOXOwZMkS7T7+/v744osv4OnpiczMTLz77rsYNGgQEhMTYW1tXeczw8PD8e677zbtwRER6bED8Zna8qMw0YnLRXWaRhBQqRbw1bnfWID0hOgjsMY6efIkVq9ejU8//RT+/v64efMm3njjDaxcuRKhoaEAgJEjR2r39/Hxgb+/P9zd3fHNN9/glVdeqfOZISEhCA4O1v66qKgIbm5uzX8wREQ6KKe4DKHfJQIA3hjWGQue6SJyIt13514pBq49gejb+cgpKoOjjZnYkegviFqA7O3tIZPJkJ2dXWt7dnb2n16/ExoaiilTpmDmzJkAAG9vb6hUKsyePRtLly6FVFr3XyqtWrVCly5dcPPmzXo/U6FQQKFQPObREBHpP0EQsHRvIgpKK+HlYoO5QzqJHUkvtLW1QE+3VohLK8CRy1mY2s9D7Ej0F0Q9rymXy+Hn54eoqCjtNo1Gg6ioKPTr16/e95SWltYpOTKZDED1H9z6lJSU4NatW3BxcWmi5EREhum7uAwcu5INU5kEH4z3hZzjrwYb7VP9M+ZAfKbISaghRP8/Ozg4GFu2bMH27duRlJSEV199FSqVSrsqbOrUqbUukg4KCsKmTZuwc+dOpKSk4NixYwgNDUVQUJC2CC1atAinTp3C7du38csvv+D555+HTCbDxIkTRTlGIiJ9kFNUhrD9lwEArw/tDC9XG5ET6ZeR3tUF6MLtfGQXlf3F3iQ20a8BmjBhAnJzc7F8+XJkZWWhZ8+eOHLkiPbC6NTU1FpnfJYtWwaJRIJly5YhPT0dDg4OCAoKwqpVq7T73LlzBxMnTsTdu3fh4OCAgQMH4ty5c3BwcGjx4yMi0geCIGDJ3gQU3q9EjzY2mDO4o9iR9E6bVuZ4ol0rxKYW4HBCJqYPaC92JHoIifBncyMjVlRUBKVSicLCQtjY8F9ARGT4vo25g4W7LsFUJsGB1wbB07nuiln6a1vPpGDlgSvo42GLXXP6ix3H6DTm57foIzAiIhJXVmEZ3vm+evQ1P6ALy89jGOVdvYDnwu17yCrkGEyXsQARERkxQRAQsicexWVV8G2rxD+e6iB2JL3mojRHb3dbAMChBF4MrctYgIiIjNiumDs4cS0XcpkUH4z3hYmMPxYe16iai6EPsgDpNP6fTkRkpDIK7mPl91cAAMHDu6CzE0dfTeFBAYr57R4yCu6LnIb+DAsQEZEREgQBi/ckoLi8Cr3atcKsQRx9NRVnpRn6eFSPwQ4nZomchv4MCxARkRGKvJCG09dzoTCpHn3JpBKxIxmUwAdjsHg+TFZXsQARERmZO/dK8d7BJADAmyM80dHBSuREhmektwskEiA2tQDpHIPpJBYgIiIjIggC3v42HiXlVejtbosZvFlfs3CyMUMfDzsAwGFeDK2TWICIiIzIV+dT8fPNuzAzlWLdOB+OvpoRnw2m21iAiIiMRFp+KVYfqh59vTWiKzpw9NWsnu3hDIkEiEsrQFp+qdhx6A9YgIiIjIBGI+Ct3fEorVCjr4cdpvf3EDuSwXO0NoN/+5oxWCLPAukaFiAiIiPw5fnfcDb5LsxNZXh/vA+kHH21iP+tBmMB0jUsQEREBu63uyqEH7oKAFg8sivcW1uKnMh4jOjhDKkEuHSnkGMwHcMCRERkwDQaAW/ujsf9SjWe7GCHKU+6ix3JqFSPwVoD4LPBdA0LEBGRAdt+9jaiU/JhIZfh/XG+HH2JINCHzwbTRSxAREQGKiVPhbVHqkdfIaO6wc3OQuRExunZmjFY/J1CpN7lGExXsAARERkgtUbAm7suoaxSgwGdWmNy33ZiRzJa9lYK9OtYPQbjWSDdwQJERGSAPv85BRd/uwdLuQxrX+SqL7EFersCAA4m8NlguoIFiIjIwNzKLcH7R68BAJaN9kJbW46+xDaiuxNkUgkS04twO08ldhwCCxARkUFRawQs2nUJ5VUaDOpsj5f7uIkdiQC0tlKgP8dgOoUFiIjIgHz2UzJ+TS2AtcIEa1/0gUTC0ZeuGMWbIuoUFiAiIgNxM6cY649dBwCEjvaCaytzkRPR743o7gyZVIIrmUVI4RhMdCxAREQGoEqtwcJd8aio0mCwpwPG924rdiT6AztLuXYMxpsiio8FiIjIAPz7p2RcSiuAtZkJ1rzA0ZeuGl1zU8QDHIOJjgWIiEjPXcsqRsSxGwCAsKDucFaaiZyI/sxwL2eYSCVIyizCrdwSseMYNRYgIiI9VqnWYNGuS6hQazCsqyNefKKN2JHoIWwt5RjQyR4AcIhngUTFAkREpMc2n7yFhPRCKM1NsfoFb46+9ACfDaYbWICIiPRUUmYRPjpePfp697nucLLh6EsfjPByhqlMgqtZxbiZUyx2HKPFAkREpIcq1Ros/OYSKtUCnvFywpiermJHogZSWphqx2AH47NETmO8WICIiPTQxhM3cSWzCK0sTLHq+R4cfemZwAc3ReSzwUTDAkREpGcuZxTik+M3AQArxvSAozVHX/pmeM0Y7Hp2CW5kcwwmBhYgIiI9UlFVPfqq0ggY2cMZQTUX1JJ+UVqYYlBnBwC8GFosLEBERHrkk+M3cDWrGHaWcqwcy9GXPgvks8FExQJERKQnEu4UYuPJWwCAlWN6wN5KIXIiehwBXk6Qy6S4kVOC6xyDtTidKEAbN26Eh4cHzMzM4O/vj+jo6IfuHxERAU9PT5ibm8PNzQ0LFixAWVlZvfuuWbMGEokE8+fPb4bkREQto7xKjYW74qDWCAj0cdHeS4b0l9LcFE91qV4NxkdjtDzRC1BkZCSCg4MRFhaG2NhY+Pr6YsSIEcjJyal3/x07dmDx4sUICwtDUlIStm7disjISCxZsqTOvhcuXMC//vUv+Pj4NPdhEBE1q4+ibuB6dgnsreRYOaaH2HGoiWhvihifAUEQRE5jXEQvQBs2bMCsWbMwY8YMeHl5YfPmzbCwsMC2bdvq3f+XX37BgAEDMGnSJHh4eGD48OGYOHFinbNGJSUlmDx5MrZs2QJbW9uWOBQiomZxKa0Am2pGX++N9YadpVzkRNRUAro5QW4ixa1cFa5xDNaiRC1AFRUViImJQUBAgHabVCpFQEAAzp49W+97+vfvj5iYGG3hSU5OxqFDhzBq1Kha+82dOxeBgYG1PvvPlJeXo6ioqNaLiEgXlFWqsXDXJWgE4DlfVzzbw1nsSNSErM1M8dSD1WAcg7UoUQtQXl4e1Go1nJycam13cnJCVlb9d8ecNGkSVqxYgYEDB8LU1BQdO3bE4MGDa43Adu7cidjYWISHhzcoR3h4OJRKpfbl5ub26AdFRNSE/vnjddzMKYG9lQLvPtdd7DjUDEb7/G81GMdgLUf0EVhjnTx5EqtXr8ann36K2NhY7NmzBwcPHsTKlSsBAGlpaXjjjTfw1VdfwcysYTcHCwkJQWFhofaVlpbWnIdARNQgsan3sOV0MgBg9fM9YMvRl0Ea1s0RchMpkvNUuJrFMVhLMRHzi9vb20MmkyE7O7vW9uzsbDg713+aNzQ0FFOmTMHMmTMBAN7e3lCpVJg9ezaWLl2KmJgY5OTk4IknntC+R61W4/Tp0/jkk09QXl4OmUxW6zMVCgUUCi4nJSLdUVapxqKa0dcLvdpgeHeOvgyVtZkpBndxwA9XsnEwPhPdXGzEjmQURD0DJJfL4efnh6ioKO02jUaDqKgo9OvXr973lJaWQiqtHftBoREEAcOGDUNCQgLi4uK0r969e2Py5MmIi4urU36IiHTR+h+uITlXBUdrBcKCOPoydNrVYAkcg7UUUc8AAUBwcDCmTZuG3r17o2/fvoiIiIBKpcKMGTMAAFOnTkWbNm201/MEBQVhw4YN6NWrF/z9/XHz5k2EhoYiKCgIMpkM1tbW6NGj9hJRS0tLtG7dus52IiJddPF2Pj47kwIACH/BG0oLU5ETUXMb1s0JChMpUvJUuJJZhO6uSrEjGTzRC9CECROQm5uL5cuXIysrCz179sSRI0e0F0anpqbWOuOzbNkySCQSLFu2DOnp6XBwcEBQUBBWrVol1iEQETWZ+xXVoy9BAMb5tcWwbk5//SbSe1YKEwzxdMSRy1k4GJ/JAtQCJALPtdVRVFQEpVKJwsJC2NhwFktELWfF91ew7ecUONuY4eiCp6A059kfY/H9pQy89vWvcG9tgZOLBvM5b4+gMT+/9W4VGBGRoTqffBef/1I9+lrzojfLj5EZ2tURZqZS/Ha3FJczeD+65sYCRESkA0orqvDm7ngIAjChtxsGezqKHYlamGXNGAzgs8FaAgsQEZEOWHv4KlLzS+GqNMPS0d3EjkMiebAa7BBXgzU7FiAiIpGdvXUX28/+BgBYO84HNmYcfRmrB2Ow1PxSJKZzDNacWICIiESkKq/Cm7svAQAm+bfDoJrnQpFxspCbYFjX6pV/BxIyRE5j2FiAiIhEFH44CXfu3UebVuZYMoqjL/rdTRH5bLBmxQJERCSSMzfy8OW5VADAunE+sFKIfms20gFDPB1hbirDnXv3EX+nUOw4BosFiIhIBMVllXj723gAwJQn3TGgk73IiUhXmMtlGNatejXYwQSuBmsuLEBERCJYfegq0gvuw83OHItHdhU7DumY0RyDNTsWICKiFnb6ei6+jq4Zfb3oC0uOvugPBns6wkIuQ3rBfcSlFYgdxyCxABERtaCi342+pvf3QL+OrUVORLrIzFSmfQ7cQd4UsVmwABERtaD3DlxBZmEZ3Ftb4K1nPcWOQzos0Js3RWxOLEBERC3kxLUcfHPxDiQS4P1xvrCQc/RFf26wpwMs5TJkFJbhV47BmhwLEBFRCygsrcTimtHX3we0R9/2diInIl1nZipDgBfHYM2FBYiIqAWsOHAF2UXlaG9viUXDOfqihvn9GEyj4RisKbEAERE1sx+vZOPb2OrR1wfjfWAul4kdifTEU10cYKUwQWZhGX5Nuyd2HIPCAkRE1IwKSiuwZG8CAGDWoA7wc+foixrOzFSGZ2rGYAc4BmtSLEBERM3o3e+vIKe4HB0dLBH8TBex45Ae4hisebAAERE1k6OXs7D313RIJcAH431hZsrRFzXeoC72sFaYILuoHDGpHIM1FRYgIqJmkK+qwNKa0dfspzqiVztbkRORvlKY/G8MxtVgTYcFiIioGYTtv4y8kgp0drTC/IDOYschPRfowzFYU2MBIiJqYocTMvH9pQzIpBKOvqhJDOxsD2szE+QUl+PibxyDNQUWICKiJnS3pBzL9iUCAOY83QG+bq3EDUQGQWEiw3AvZwDAwfgMkdMYBhYgIqImtPy7y7irqoCnkzVeH8bRFzWd0Q/GYIlZUHMM9thYgIiImsiB+AwcTMiETCrB+pd8oTDh6IuazoBO9rAxM0FucTku3M4XO47eYwEiImoCucXlCK0Zfc0d0gk92ihFTkSGRm4ixYjuD8ZgXA32uFiAiIgekyAIWLYvAfdKK9HNxQbzhnQSOxIZqAerwQ4nZnIM9phYgIiIHtP+Sxk4ejkbJlIJPhjvA7kJ/2ql5jGgkz2U5qbIK6nA+ZS7YsfRa/xTSkT0GHKKyxC2/zIA4LWhndHdlaMvaj6mMilGdK++KeKhBI7BHgcLEBHRIxIEAUv3JqKgtBLdXW3wf0M6ih2JjECgjysA4EhiFqrUGpHT6C8WICKiR7QvLh3HrmTDVFa96stUxr9Sqfn179garSyqx2DRKVwN9qj4p5WI6BFkF5Uh7Lvq0dcbwzqjq7ONyInIWJjKpHi2ZjXYAY7BHhkLEBFRIwmCgJA9CSgqq4J3GyXmPM3RF7WsB6vBOAZ7dCxARESN9G1sOo5fzYFcJsX6l3xhwtEXtbB+HVrD1sIU+aoKnEvmGOxR6MSf2o0bN8LDwwNmZmbw9/dHdHT0Q/ePiIiAp6cnzM3N4ebmhgULFqCsrEz7+5s2bYKPjw9sbGxgY2ODfv364fDhw819GERkBDIL7+Pd76tHXwue6YIuTtYiJyJjZCKT4tke1WeBDibw2WCPQvQCFBkZieDgYISFhSE2Nha+vr4YMWIEcnJy6t1/x44dWLx4McLCwpCUlIStW7ciMjISS5Ys0e7Ttm1brFmzBjExMbh48SKGDh2KMWPG4PLlyy11WERkgARBwOJvE1BcVgVft1aYNai92JHIiAV6/28MVskxWKOJXoA2bNiAWbNmYcaMGfDy8sLmzZthYWGBbdu21bv/L7/8ggEDBmDSpEnw8PDA8OHDMXHixFpnjYKCgjBq1Ch07twZXbp0wapVq2BlZYVz58611GERkQH65mIaTl3PhdxEivXjfTj6IlE92cEOdpZy3CutxNlbvCliY4n6p7eiogIxMTEICAjQbpNKpQgICMDZs2frfU///v0RExOjLTzJyck4dOgQRo0aVe/+arUaO3fuhEqlQr9+/erdp7y8HEVFRbVeRES/l15wHysPJAEAFg3vgk6OHH2RuKrHYNWrwXhTxMYTtQDl5eVBrVbDycmp1nYnJydkZWXV+55JkyZhxYoVGDhwIExNTdGxY0cMHjy41ggMABISEmBlZQWFQoE5c+Zg79698PLyqvczw8PDoVQqtS83N7emOUAiMgjVo694lJRX4Yl2rfDKwA5iRyICAIx+MAa7zDFYY+nd+duTJ09i9erV+PTTTxEbG4s9e/bg4MGDWLlyZa39PD09ERcXh/Pnz+PVV1/FtGnTcOXKlXo/MyQkBIWFhdpXWlpaSxwKEemJr6PT8NONPChMpPhgvC9kUonYkYgAAH3b28HeSo6C0kr8wjFYo5iI+cXt7e0hk8mQnZ1da3t2djacnZ3rfU9oaCimTJmCmTNnAgC8vb2hUqkwe/ZsLF26FFJpdaeTy+Xo1Kn6icx+fn64cOECPvzwQ/zrX/+q85kKhQIKhaIpD42IDERafilWHaz+x9ObIzzRwcFK5ERE//NgDPbluVQcjM/A010cxI6kN0Q9AySXy+Hn54eoqCjtNo1Gg6ioqD+9Xqe0tFRbch6QyWQAqk9T/xmNRoPy8vImSE1ExkKjEfD2t/FQVajRx8MWMwZw1RfpnkDv6meDHb2cjYoqjsEaStQzQAAQHByMadOmoXfv3ujbty8iIiKgUqkwY8YMAMDUqVPRpk0bhIeHA6he4bVhwwb06tUL/v7+uHnzJkJDQxEUFKQtQiEhIRg5ciTatWuH4uJi7NixAydPnsTRo0dFO04i0j9fRafil1t3YWYqxfvjOPoi3VQ9BlMgr6QcP9/KwxBPR7Ej6QXRC9CECROQm5uL5cuXIysrCz179sSRI0e0F0anpqbWOuOzbNkySCQSLFu2DOnp6XBwcEBQUBBWrVql3ScnJwdTp05FZmYmlEolfHx8cPToUTzzzDMtfnxEpJ9S75Yi/FD1qq/Fz3aFh72lyImI6ieTSjDK2xn/OfsbDsZnsgA1kER42NzISBUVFUGpVKKwsBA2NnzAIZGx0WgETNxyDudT8uHf3g5fz3oSUp79IR12LvkuXv73OVibmSBm2TOQm+jdGqcm0Zif38b5HSIieoj/nL2N8yn5sJDL8P44X5Yf0nl9POzgYK1AcVkVztzMFTuOXmABIiL6ndt5Kqw9cg0AEDKyK9q1thA5EdFfk0klGFVzU8SD8fXfR49qYwEiIqqh0Qh4c/cl3K9Uo3/H1pjs7y52JKIGC/SpXg32w5UslFepRU6j+1iAiIhqfP7LbVy4fQ+WchnWvujD0Rfpld7utnB8MAa7kSd2HJ3HAkREBCA5twTrjlwFACwJ7AY3O46+SL9IpRKMqnk0xsF4Phvsr7AAEZHRU2sELNp1CeVVGgzsZI9JfduJHYnokYz2qS5Ax65ko6ySY7CHYQEiIqO37UwKYlMLYKUwwdpxPpBIOPoi/fREO1s425ihuLwKP3EM9lAsQERk1G7mlOD9H6pXfYWO7oY2rcxFTkT06GqPwTJETqPbWICIyGhVqTVYuOsSKqo0eLqLA17q7SZ2JKLHFuhTvRz+x6QcjsEeggWIiIzWlp9ScCmtANZmJljzojdHX2QQernZwkVphpLyKpy+zpsi/hkWICIySjeyi/HPY9cBAMtHe8FFydEXGYZaY7AErgb7MyxARGR0tKMvtQZDuzpinF9bsSMRNanAmtVgP3I12J9iASIio/Ov08mIv1MIGzMThL/A0RcZnl5urdCmlTlUFWqcvMYxWH1YgIjIqFzNKkLEj9Wjr3ee6w4nGzORExE1PYlEglHeNc8G4xisXixARGQ0KtUaLNp1CZVqAQHdnPB8rzZiRyJqNg+eDRaVlI37FRyD/RELEBEZjU0nbyExvQhKc1Osfr4HR19k0HzbKtGmlTlKK9Q4eS1H7Dg6hwWIiIzC5YxCfBR1AwCwYkx3OHL0RQZOIpFoL4Y+wDFYHSxARGTwKqo0WLQrHlUaASO6O+E5X1exIxG1iMCa5fDHk3I4BvsDFiAiMnifnLiJpMwi2FqY4r2xXPVFxsOnrRJtbc1xv1KNExyD1cICREQGLTG9EJ+euAkAWDm2BxysFSInImo5vx+DHYznGOz3WICIyGCVV6mxaNclVGkEBHq7YLQPR19kfEZ716wGu5qN0ooqkdPoDhYgIjJYH0fdxNWsYrS2lGPFmO5ixyESRY82NmhnZ4GySg2OX+UY7AEWICIySPF3CrDp1C0AwHtje6C1FUdfZJw4BqsfCxARGZzyKjUWfnMJao2AIF9XjKxZCUNkrLSrwa7mQFXOMRjAAkREBijixxu4kVMCeysFVjzH0RdRd1cbeLS2QHmVBlEcgwFgASIiA/Nr6j38q2b0ter5HrC1lIuciEh81c8GezAGyxA5jW5gASIig1FWWb3qSyMAY3u6YkR3Z7EjEemMB9cBnbiWixKOwViAiMhwbDh2HbdyVXCwVuAdjr6IavFysUF7e0tUVGkQlZQtdhzRsQARkUGI+S0fW35KBgCEP++NVhYcfRH9nkQi0V4MzdVgLEBEZADuV6ixaFc8BAF48Ym2CPByEjsSkU56MAY7eT0XxWWVIqcRFwsQEem9D364hpQ8FZxsFFge5CV2HCKd1dXZGh0cHozBjHs1GAsQEem16JR8bPs5BQCw5gUfKM1NRU5EpLskEglG14zBDhj5GIwFiIj0VmlFFd7afQmCALzUuy2GdHUUOxKRzguseSbe6eu5KDLiMRgLEBHprXVHruH23VK4KM2wbDRHX0QN0cXJCp0crVCh1uDHK8a7GkwnCtDGjRvh4eEBMzMz+Pv7Izo6+qH7R0REwNPTE+bm5nBzc8OCBQtQVlam/f3w8HD06dMH1tbWcHR0xNixY3Ht2rXmPgwiakHnku/ii19uAwDWvOgDGzOOvogaovZNEY13DCZ6AYqMjERwcDDCwsIQGxsLX19fjBgxAjk59V+ctWPHDixevBhhYWFISkrC1q1bERkZiSVLlmj3OXXqFObOnYtz587h2LFjqKysxPDhw6FSqVrqsIioGanKq/Dm7ksAgIl93fB0FweRExHpl9E1q8F+upGHwvvGOQaTCIIgiBnA398fffr0wSeffAIA0Gg0cHNzw2uvvYbFixfX2X/evHlISkpCVFSUdtvChQtx/vx5nDlzpt6vkZubC0dHR5w6dQpPPfVUnd8vLy9HeXm59tdFRUVwc3NDYWEhbGxsHvcQiaiJhe5LxH/P/YY2rcxxZP4gWPPsD1GjPbPhFG7klGD9eF+86NdW7DhNoqioCEqlskE/v0U9A1RRUYGYmBgEBARot0mlUgQEBODs2bP1vqd///6IiYnRjsmSk5Nx6NAhjBo16k+/TmFhIQDAzs6u3t8PDw+HUqnUvtzc3B71kIiomf1yMw//PfcbAGDtiz4sP0SP6ME9gQ4mGOcYTNQClJeXB7VaDSen2jctc3JyQlZWVr3vmTRpElasWIGBAwfC1NQUHTt2xODBg2uNwH5Po9Fg/vz5GDBgAHr06FHvPiEhISgsLNS+0tLSHu/AiKhZlJRX4c3d8QCAvz3ZDgM724uciEh/Pbgr9E83clFYanxjMNGvAWqskydPYvXq1fj0008RGxuLPXv24ODBg1i5cmW9+8+dOxeJiYnYuXPnn36mQqGAjY1NrRcR6Z7Vh5KQXnAfbW3NETKym9hxiPRaZydreDpZo1It4Icr9Z90MGSiFiB7e3vIZDJkZ9dehpednQ1n5/qf4hwaGoopU6Zg5syZ8Pb2xvPPP4/Vq1cjPDwcGo2m1r7z5s3DgQMHcOLECbRtaxjzTSJj9dONXOw4nwoAWDfOB5YKE5ETEek/Yx6DiVqA5HI5/Pz8al3QrNFoEBUVhX79+tX7ntLSUkiltWPLZDIAwIPruQVBwLx587B3714cP34c7du3b6YjIKKWUFxWibdrRl/T+rmjf0eOvoiawoPl8Gdu5KGgtELkNC1L9BFYcHAwtmzZgu3btyMpKQmvvvoqVCoVZsyYAQCYOnUqQkJCtPsHBQVh06ZN2LlzJ1JSUnDs2DGEhoYiKChIW4Tmzp2LL7/8Ejt27IC1tTWysrKQlZWF+/fvi3KMRPR4Vh1MQkZhGdrZWeDtkV3FjkNkMDo5WqGrszWqNAJ+uGxcN0Vs9DlkDw8P/P3vf8f06dPRrl27xw4wYcIE5ObmYvny5cjKykLPnj1x5MgR7YXRqamptc74LFu2DBKJBMuWLUN6ejocHBwQFBSEVatWaffZtGkTAGDw4MG1vtbnn3+O6dOnP3ZmImo5J6/lYOeF6oUJ74/zgYWcoy+iphTo7YKrWcU4kJCJl/oYzyroRt8HKCIiAl988QUSExMxZMgQvPLKK3j++eehUCiaK2OLa8x9BIio+RTer8SIf55GVlEZZgzwQFhQd7EjERmcW7klGLb+FEykElxYGgBbS7nYkR5Zs94HaP78+YiLi0N0dDS6deuG1157DS4uLpg3bx5iY2MfOTQR0R+tPHAFWUVl8GhtgbdGcPRF1Bw6Olihm4tN9RjMiFaDPfI1QE888QQ++ugjZGRkICwsDJ999hn69OmDnj17Ytu2bRD5BtNEpOeOX83G7pg7kEiAD8b7wlwuEzsSkcF68GiMA0b0bLBHLkCVlZX45ptv8Nxzz2HhwoXo3bs3PvvsM7z44otYsmQJJk+e3JQ5iciIFJZWYvG3CQCAmQPbo7dH/XdxJ6Km8WA12C+37iJfZRyrwRp9NWFsbCw+//xzfP3115BKpZg6dSr++c9/omvX/52efv7559GnT58mDUpExuPd7y8jp7gcHRwssXC4p9hxiAxee3tLdHe1weWMIhy9nIWJfR9/kZOua/QZoD59+uDGjRvYtGkT0tPT8cEHH9QqPwDQvn17vPzyy00WkoiMx7Er2djzazqkNaMvM1OOvohagvamiEYyBmv0GaDk5GS4u7s/dB9LS0t8/vnnjxyKiIzTPVUFluytHn3NeqoDnmhnK3IiIuMR6O2CdUeu4ZdbebhbUo7WVoazurs+jT4DlJOTg/Pnz9fZfv78eVy8eLFJQhGRcXrn+8vILS5HJ0crLAjoInYcIqPi3toSPdrYQCMARy4b/mqwRheguXPn1vu09PT0dMydO7dJQhGR8TmSmInv4jI4+iISUaC3KwDjGIM1ugBduXIFTzzxRJ3tvXr1wpUrV5okFBEZl7sl5Vi6NxEAMOfpjujp1krcQERGKrBmNdi55LvIKykXOU3zanQBUigUdZ7eDgCZmZkwMeEt6omo8Zbvv4y7qgp0cbLCGwGdxY5DZLTatbaAT1tl9Rgs0bDHYI0uQMOHD0dISAgKCwu12woKCrBkyRI888wzTRqOiAzfwfhMHIzPhEwqwfrxPaEw4eiLSEwPzgIZ+his0QXogw8+QFpaGtzd3TFkyBAMGTIE7du3R1ZWFtavX98cGYnIQOWVlCP0u+rR19zBHeHdVilyIiJ6cFPE8yl3kVNcJnKa5tPoAtSmTRvEx8dj3bp18PLygp+fHz788EMkJCTAzc14niJLRI9HEASE7ktEvqoCXZ2tMW8oR19EusDNzgK+bq2gEYCjBjwGe6SLdiwtLTF79uymzkJERuT7+EwcTsyCiVSCD8b7Qm7yyE/mIaImNtrbBZfSCnAgPhNT+nmIHadZPPJVy1euXEFqaioqKmo/M+S555577FBEZNhyisuwvGb0NW9oJ/Row9EXkS4Z6e2MVYeSEH07HzlFZXC0MRM7UpN7pDtBP//880hISIBEItE+9V0ikQAA1Gp10yYkIoMiCAKW7k1EQWklvFxsMHdIJ7EjEdEftLW1QE+3VohLK8DhxCxM6+8hdqQm1+hzzm+88Qbat2+PnJwcWFhY4PLlyzh9+jR69+6NkydPNkNEIjIk38Vl4NiVbJjKJFj/ki9MZRx9Eemi0Q+eDZZgmKvBGv03z9mzZ7FixQrY29tDKpVCKpVi4MCBCA8Px+uvv94cGYnIQGQXlSFs/2UAwOtDO6Obi43IiYjoz4ysWQ124XY+sosMbzVYowuQWq2GtbU1AMDe3h4ZGRkAAHd3d1y7dq1p0xGRwRAEAUv2JKDwfiW82ygxZ3BHsSMR0UO0aWWOJ9q1giAAhw3wLFCjC1CPHj1w6dIlAIC/vz/WrVuHn3/+GStWrECHDh2aPCARGYY9semIupoDuUyKD8Zz9EWkDwJ9ap4NxgIELFu2DBqNBgCwYsUKpKSkYNCgQTh06BA++uijJg9IRPovq7AM73xfPfqa/0xneDpbi5yIiBpilLczAODC7XvIKjSsMVijV4GNGDFC+9+dOnXC1atXkZ+fD1tbW+1KMCKiBwRBwOI98Sguq4KvWyvMHsQzxUT6wkVpjt7utrj42z0cSsjE3we2FztSk2nUGaDKykqYmJggMTGx1nY7OzuWHyKq166Ld3DyWi7kJlJ8MM4HJhx9EemVQANdDdaov4lMTU3Rrl073uuHiBoko+A+Vh64AgBY+EwXdHbi6ItI34zs4QKJBIj57R4yCu6LHafJNPqfYkuXLsWSJUuQn5/fHHmIyEAIgoC3v41HcXkVerVrhZkcfRHpJWelGXq72wIADhnQWaBGXwP0ySef4ObNm3B1dYW7uzssLS1r/X5sbGyThSMi/bXzQhp+upEHhUn1qi+ZlGNyIn0V6O2CC7errwMylH/MNLoAjR07thliEJEhuXOvFO/VjL7eHOGJjg5WIicioscx0tsF7x64gtjUAqQX3EebVuZiR3psjS5AYWFhzZGDiAzEg9GXqkKN3u62mDHAcFaNEBkrJxsz9PGwQ3RKPg4byFkgLscgoib11flU/HzzLsxMpXifoy8ig/Hg2WAH4g3jOqBGFyCpVAqZTPanLyIyXmn5pVh9KAkA8PazXdHe3vIv3kFE+uLZHs6QSIC4tAKk5ZeKHeexNXoEtnfv3lq/rqysxK+//ort27fj3XffbbJgRKRfNBoBb+6+hNIKNfq2t8O0fh5iRyKiJuRobQb/9nY4l5yPw4mZmP2Ufj/Pr9EFaMyYMXW2jRs3Dt27d0dkZCReeeWVJglGRPrlv+d+w7nkfJibyvD+OB9IOfoiMjiBPq44l5yPg/H6X4Ca7BqgJ598ElFRUU31cUSkR367q8Kaw1cBACGjusK9NUdfRIbo2e7OkEqAS3cK9X4M1iQF6P79+/joo4/Qpk2bRr9348aN8PDwgJmZGfz9/REdHf3Q/SMiIuDp6Qlzc3O4ublhwYIFKCv73wPaTp8+jaCgILi6ukIikWDfvn2NzkREDafRCHhzVzzuV6rRr0Nr/M3fXexIRNRMHKwV8G/fGoD+Pxqj0QXI1tYWdnZ22petrS2sra2xbds2vP/++436rMjISAQHByMsLAyxsbHw9fXFiBEjkJOTU+/+O3bswOLFixEWFoakpCRs3boVkZGRWLJkiXYflUoFX19fbNy4sbGHRkSP4ItfbiP6dj4s5DKs4+iLyOA9eDaYvt8VWiIIgtCYN3zxxRe1HnwqlUrh4OAAf39/2NraNuqL+/v7o0+fPvjkk08AABqNBm5ubnjttdewePHiOvvPmzcPSUlJtUZtCxcuxPnz53HmzJk6+0skEuzdu7fRN28sKiqCUqlEYWEhbGxsGvVeImOSkqfCyA9Po6xSg/fG9sDfnuTZHyJDl1dSjr6rfoRGAE6/OQTtWluIHUmrMT+/G30R9PTp0x81Vy0VFRWIiYlBSEiIdptUKkVAQADOnj1b73v69++PL7/8EtHR0ejbty+Sk5Nx6NAhTJky5bGylJeXo7y8XPvroqKix/o8ImOg1gh4c9cllFVqMLCTPSb7txM7EhG1AHsrBfp1bI2fb97FwYRMvDpYPy+GbvQI7PPPP8euXbvqbN+1axe2b9/e4M/Jy8uDWq2Gk5NTre1OTk7Iysqq9z2TJk3CihUrMHDgQJiamqJjx44YPHhwrRHYowgPD4dSqdS+3NzcHuvziIzB5z+n4OJv92ClMMGaF71rnRkmIsMW6O0KADiYkCFykkfX6AIUHh4Oe3v7OtsdHR2xevXqJgn1Z06ePInVq1fj008/RWxsLPbs2YODBw9i5cqVj/W5ISEhKCws1L7S0tKaKDGRYbqZU4L3j14DACwL7Ia2trpzCpyImt+I7k6QSSVITC/C7TyV2HEeSaNHYKmpqWjfvu6zfdzd3ZGamtrgz7G3t4dMJkN2dnat7dnZ2XB2dq73PaGhoZgyZQpmzpwJAPD29oZKpcLs2bOxdOlSSKWPtqhNoVBAoVA80nuJjI1aI2DRrksor9LgqS4OmNCHZ0yJjE1rKwX6d2yNn27k4WBCJuYO6SR2pEZrdGNwdHREfHx8ne2XLl1C69atG/w5crkcfn5+tS5o1mg0iIqKQr9+/ep9T2lpaZ2S8+DxG428lpuIHtGWn5IRl1YAa4UJ1rzA0ReRsQr0rl4NdlBPnw3W6AI0ceJEvP766zhx4gTUajXUajWOHz+ON954Ay+//HKjPis4OBhbtmzB9u3bkZSUhFdffRUqlQozZswAAEydOrXWRdJBQUHYtGkTdu7ciZSUFBw7dgyhoaEICgrSFqGSkhLExcUhLi4OAJCSkoK4uLhGnZ0iovrdyC7GhmPXAQChQV5wbWUuciIiEsvw7s6QSSW4klmEFD0cgzV6BLZy5Urcvn0bw4YNg4lJ9ds1Gg2mTp3a6GuAJkyYgNzcXCxfvhxZWVno2bMnjhw5or0wOjU1tdYZn2XLlkEikWDZsmVIT0+Hg4MDgoKCsGrVKu0+Fy9exJAhQ7S/Dg4OBgBMmzYNX3zxRWMPl4hqVKk1WLTrEiqqNBji6YDxfm3FjkREIrKzlGvHYIf0cAzW6PsAPXDjxg3ExcXB3Nwc3t7ecHc3nPt/8D5ARHVtPHET7x+9BmszExxb8DSclWZiRyIikUVeSMXb3yagm4sNDr8xSOw4zXsfoAc6d+6Mzp07P+rbiUiPXMsqRsSP1aOvd4K6s/wQEQBguJczlu5NRFJmEW7llqCjg5XYkRqs0dcAvfjii1i7dm2d7evWrcP48eObJBQR6Y7KmtFXpVpAQDdHvPBE45/5R0SGydZSjgGdqm+Nc0jPLoZudAE6ffo0Ro0aVWf7yJEjcfr06SYJRUS6Y/PJW0hIL4TS3BSrn+eqLyKq7cGzwfTt4aiNLkAlJSWQy+V1tpuamvIREkQG5kpGET46fgMAsGJMdzjacPRFRLWN8HKGqUyCq1nFuJlTLHacBmt0AfL29kZkZGSd7Tt37oSXl1eThCIi8VVU/W/0NdzLCc/5uoodiYh0kNLCFANrxmAH4+t/lJUuavRF0KGhoXjhhRdw69YtDB06FAAQFRWFHTt2YPfu3U0ekIjEsfHETVzJLIKthSlWcfRFRA8R6OOKE9dycTAhA28E6McCqUYXoKCgIOzbtw+rV6/G7t27YW5uDl9fXxw/fhx2dnbNkZGIWlhieiE2nrgJAFgxpgccrPmoGCL6c894OcFUJsH17BLcyC5GZydrsSP9pUd6eFZgYCB+/vlnqFQqJCcn46WXXsKiRYvg6+vb1PmIqIU9GH1VaQSM8nbG6JoLHImI/ozS3BSDOjsA0J+LoR/t6aGoXg02bdo0uLq6Yv369Rg6dCjOnTvXlNmISAQfH7+Bq1nFsLOUY8WYHhx9EVGD6NuzwRo1AsvKysIXX3yBrVu3oqioCC+99BLKy8uxb98+XgBNZADi7xTg05O3AAArx/SAvRVHX0TUMAFeTpDLpLiRU4Lr2cXoouNjsAafAQoKCoKnpyfi4+MRERGBjIwMfPzxx82ZjYhaUHmVGot2XYJaI2C0j4v23h5ERA2hNDfFU12qV4Md0IOzQA0uQIcPH8Yrr7yCd999F4GBgdqnrxORYfjwxxu4nl0Ce6vq0RcRUWNpb4oYn4FHfNRoi2lwATpz5gyKi4vh5+cHf39/fPLJJ8jLy2vObETUQuLSCrD5VPXo672x3rCzrHuzUyKivxLQzQlyEylu5apwLVu3b4rY4AL05JNPYsuWLcjMzMQ//vEP7Ny5E66urtBoNDh27BiKi3X7QImofmWVaiz8Jg4aARjT0xXP9nAWOxIR6SlrM1M83aVmNZiOj8EavQrM0tISf//733HmzBkkJCRg4cKFWLNmDRwdHfHcc881R0Yiakb/PHYdt3JVcLBW4J2g7mLHISI99/vVYLo8BnvkZfAA4OnpiXXr1uHOnTv4+uuvmyoTEbWQmN/uYctPyQCA1c97w5ajLyJ6TMO6OUJuIkVyngpJmbo7HXqsAvSATCbD2LFjsX///qb4OCJqAWWVary56xI0AvDCE23wjJeT2JGIyABYm5licM0Y7JAO3xSxSQoQEemfD45eQ3KeCk42CoSN5uiLiJqOdjVYgu6OwViAiIzQhdv52PpzCgAg/AVvKC1MRU5ERIZkWDcnKEykSMlT4Upmkdhx6sUCRGRk7ldUj74EARjv1xZDu3L0RURNy0phgiGejgB0dzUYCxCRkVl39Cpu3y2Fi9IMy0bzETZE1Dx0fQzGAkRkRM4l38XnP98GAKx50QdKc46+iKh5DO3qCDNTKX67W4rLGbo3BmMBIjISqvIqvLU7HgDwch837c3KiIiag6XCBEO7Vo/BdPHZYCxAREZi7ZGrSM0vhavSDEsDu4kdh4iMwKgHN0VM0L1ng7EAERmBX27l4T9nfwMArBvnC2szjr6IqPk9GIOl5d9HYrpujcFYgIgMXMnvRl+T/dthYGd7kRMRkbGwkJtgWM1K0wMJGSKnqY0FiMjAhR9Kwp1799GmlTlCRnH0RUQtS7saTMeeDcYCRGTAztzIw1fnUwEA74/zgZXCRORERGRshng6wtxUhjv37iP+TqHYcbRYgIgMVHFZJd7+tnr0NbWfO/p34uiLiFqeuVyGYd1qboqoQ88GYwEiMlCrDyUhveA+2tlZ4O1nu4odh4iM2GgdHIOxABEZoFPXc/F1dBqA6tGXJUdfRCSiwZ6OsJDLkF5wH3FpBWLHAcACRGRwCu9X4u2aVV/T+3vAv0NrkRMRkbEzM5UhoFv1ajBdeTYYCxCRgXnvwBVkFZXBo7UF3nrWU+w4REQA/ndTxEMJmdBoxB+D8bw4kQE5cTUHu2LuQCIB3h/vCws5/4gTkW4Y7OkAS7kM6ffK8NmuElhrrOHiAgwaBMhkLZ9HJ84Abdy4ER4eHjAzM4O/vz+io6Mfun9ERAQ8PT1hbm4ONzc3LFiwAGVlZY/1mUT6rrC0Eov3VI++XhnQHn087ERORET0P2amMniUdEH65qH4x8vWmDQJGDIE8PAA9uxp+TyiF6DIyEgEBwcjLCwMsbGx8PX1xYgRI5CTk1Pv/jt27MDixYsRFhaGpKQkbN26FZGRkViyZMkjfyaRIXj3wGVkF5Wjg70lFo3g6IuIdMuePcChiPZQF5vV2p6eDowb1/IlSCKIvB7N398fffr0wSeffAIA0Gg0cHNzw2uvvYbFixfX2X/evHlISkpCVFSUdtvChQtx/vx5nDlz5pE+84+KioqgVCpRWFgIGxubpjhMomb145VszPzPRUglwK45/eHnbit2JCIiLbW6+kzPnTsCAEmd35dIgLZtgZSUxxuHNebnt6hngCoqKhATE4OAgADtNqlUioCAAJw9e7be9/Tv3x8xMTHakVZycjIOHTqEUaNGPfJnlpeXo6ioqNaLSF8UlFYgZG8CAGDWoA4sP0Skc376CbhzB6iv/ACAIABpadX7tRRRr5DMy8uDWq2Gk5NTre1OTk64evVqve+ZNGkS8vLyMHDgQAiCgKqqKsyZM0c7AnuUzwwPD8e7777bBEdE1PLe2X8ZucXl6OhgiQXPdBE7DhFRHZkNXPne0P2agujXADXWyZMnsXr1anz66aeIjY3Fnj17cPDgQaxcufKRPzMkJASFhYXaV1paWhMmJmo+RxKzsC8uA1IJsP6lnjAzFWEpBRHRX3Bxadr9moKoZ4Ds7e0hk8mQnZ1da3t2djacnZ3rfU9oaCimTJmCmTNnAgC8vb2hUqkwe/ZsLF269JE+U6FQQKFQNMEREbWcfFUFlu2rHn394+mO6OnWStxARER/YtCg6mt80tOrx11/9OAaoEGDWi6TqGeA5HI5/Pz8al3QrNFoEBUVhX79+tX7ntLSUkiltWPLaq6YEgThkT6TSB8t/y4ReSUV6OJkhfkBncWOQ0T0p2Qy4MMPq/9b8ofLgB78OiKiZe8HJPoILDg4GFu2bMH27duRlJSEV199FSqVCjNmzAAATJ06FSEhIdr9g4KCsGnTJuzcuRMpKSk4duwYQkNDERQUpC1Cf/WZRPruUEImDsRnQiaV4IPxvlCYcPRFRLrthReA3buBNm1qb2/btnr7Cy+0bB7RbxM7YcIE5ObmYvny5cjKykLPnj1x5MgR7UXMqamptc74LFu2DBKJBMuWLUN6ejocHBwQFBSEVatWNfgzifRZXkk5lu1LBAD83+CO8GnbStxAREQN9MILwJgx1au9MjMh6p2gRb8PkC7ifYBIVwmCgP/7KhaHE7PQ1dka++cNhNxE9BO5REQ6QW/uA0REjXMgPhOHE7NgUjP6YvkhIno0/NuTSE/kFpdj+XfVo6+5QzqhRxulyImIiPQXCxCRHhAEAcv2JeBeaSW8XGwwd0gnsSMREek1FiAiPbD/UgaOXs7m6IuIqInwb1EiHZdTVIbl310GALw+rDO8XHlhPhHR42IBItJhgiBgyd4EFN6vRI82Nnh1cEexIxERGQQWICIdtvfXdPyYlANTmQTrx/eEqYx/ZImImgL/NiXSUVmFZXhnf/Xoa35AF3g6W4uciIjIcLAAEekgQRAQsiceRWVV8G2rxD+e6iB2JCIig8ICRKSDdsXcwYlruZDLpPhgvC9MOPoiImpS/FuVSMdkFNzHyu+vAACCh3dBZyeOvoiImhoLEJEOEQQBi/ckoLi8Cr3atcKsQRx9ERE1BxYgIh0SeSENp6/nQm4ixfvjfCGTSsSORERkkFiAiHTEnXuleO9gEgDgzeGe6ORoJXIiIiLDxQJEpAMEQcDibxNQUl4FP3db/H1ge7EjEREZNBYgIh2wIzoVZ27mwcxUivfH+XD0RUTUzFiAiESWll+KVTWjr7dGdEUHB46+iIiaGwsQkYg0GgFv7Y5HaYUafT3sML2/h9iRiIiMAgsQkYi+PP8bzibfhbmpDOvG+UDK0RcRUYtgASISyW93VQg/dBUAsHhkV3jYW4qciIjIeLAAEYlAoxHw5u543K9U48kOdpjypLvYkYiIjAoLEJEItp+9jeiUfFjIZXh/nC9HX0RELYwFiKiFpeSpsPZI9egrZFQ3uNlZiJyIiMj4sAARtSC1RsCbuy6hrFKDAZ1aY3LfdmJHIiIySixARC3o859TcPG3e7CUy7D2Ra76IiISCwsQUQu5lVuC949eAwAsG+2FtrYcfRERiYUFiKgFqDUCFu26hPIqDQZ1tsfLfdzEjkREZNRYgIhawGc/JePX1AJYK0yw9kUfSCQcfRERiYkFiKiZ3cwpxvpj1wEAoaO94NrKXORERETEAkTUjKrUGizcFY+KKg0GezpgfO+2YkciIiKwABE1q3//lIxLaQWwNjPBmhc4+iIi0hUsQETN5FpWMSKO3QAAhAV1h7PSTORERET0AAsQUTOoVGuwaNclVKg1GNbVES8+0UbsSERE9DssQETNYPPJW0hIL4TS3BSrX/Dm6IuISMfoRAHauHEjPDw8YGZmBn9/f0RHR//pvoMHD4ZEIqnzCgwM1O6TnZ2N6dOnw9XVFRYWFnj22Wdx48aNljgUIiRlFuGj49X/v737XHc42XD0RUSka0QvQJGRkQgODkZYWBhiY2Ph6+uLESNGICcnp9799+zZg8zMTO0rMTERMpkM48ePBwAIgoCxY8ciOTkZ3333HX799Ve4u7sjICAAKpWqJQ+NjFClWoOF31xCpVrAM15OGNPTVexIRERUD9EL0IYNGzBr1izMmDEDXl5e2Lx5MywsLLBt27Z697ezs4Ozs7P2dezYMVhYWGgL0I0bN3Du3Dls2rQJffr0gaenJzZt2oT79+/j66+/bslDIyO08cRNXMksQisLU6x6vgdHX0REOkrUAlRRUYGYmBgEBARot0mlUgQEBODs2bMN+oytW7fi5ZdfhqWlJQCgvLwcAGBm9r+xg1QqhUKhwJkzZ+r9jPLychQVFdV6ETVWYnohPjl+EwCwYkwPOFpz9EVEpKtELUB5eXlQq9VwcnKqtd3JyQlZWVl/+f7o6GgkJiZi5syZ2m1du3ZFu3btEBISgnv37qGiogJr167FnTt3kJmZWe/nhIeHQ6lUal9ubnxOEzVORVX1qq8qjYCRPZwR5OMidiQiInoI0Udgj2Pr1q3w9vZG3759tdtMTU2xZ88eXL9+HXZ2drCwsMCJEycwcuRISKX1H25ISAgKCwu1r7S0tJY6BDIQnxy/gatZxbCzlGPlWI6+iIh0nYmYX9ze3h4ymQzZ2dm1tmdnZ8PZ2fmh71WpVNi5cydWrFhR5/f8/PwQFxeHwsJCVFRUwMHBAf7+/ujdu3e9n6VQKKBQKB79QMioJdwpxMaTtwAAK8f0gL0V/18iItJ1op4Bksvl8PPzQ1RUlHabRqNBVFQU+vXr99D37tq1C+Xl5fjb3/72p/solUo4ODjgxo0buHjxIsaMGdNk2YkAoLxKjYW74qDWCAj0cUEgR19ERHpB1DNAABAcHIxp06ahd+/e6Nu3LyIiIqBSqTBjxgwAwNSpU9GmTRuEh4fXet/WrVsxduxYtG7dus5n7tq1Cw4ODmjXrh0SEhLwxhtvYOzYsRg+fHiLHBMZjw9/vIHr2SWwt5Jj5ZgeYschIqIGEr0ATZgwAbm5uVi+fDmysrLQs2dPHDlyRHthdGpqap1rd65du4YzZ87ghx9+qPczMzMzERwcjOzsbLi4uGDq1KkIDQ1t9mMh43IprQCbT1WPvt4b6w07S7nIiYiIqKEkgiAIYofQNUVFRVAqlSgsLISNjY3YcUgHlVWqMfrjM7iZU4LnfF3x0cReYkciIjJ6jfn5rderwIjE8s8fr+NmTgnsrRR497nuYschIqJGYgEiaqSY3+5hy+lkAMDq53vAlqMvIiK9wwJE1AhllWq8uesSNALwQq82GN794bdrICIi3cQCRNQI63+4huQ8FRytFQgL4uiLiEhfsQARNdDF2/n47EwKACD8BW8oLUxFTkRERI+KBYioAe5XqLFo1yUIAjDOry2GdXP66zcREZHOYgEiaoB1R6/i9t1SONuYIXS0l9hxiIjoMbEAEf2F88l38fnPtwEAa170htKcoy8iIn3HAkT0EKUVVXhzdzwAYEJvNwz2dBQ5ERERNQUWIKKHWHv4KlLzS+GqNMPS0d3EjkNERE2EBYjoT/xyKw/bz/4GAFg7zgc2Zhx9EREZChYgonqoyqvwVs3oa5J/Owzq7CByIiIiakosQET1CD+chDv37qNNK3MsGcXRFxGRoWEBIvqDMzfy8OW5VADAunE+sFKYiJyIiIiaGgsQ0e8Ul1Xi7W+rR19TnnTHgE72IiciIqLmwAJE9DurDyUhveA+3OzMsXhkV7HjEBFRM2EBIqpx6nouvo5OAwC8P84Xlhx9EREZLBYgIgBFZZVYXDP6mt7fA092aC1yIiIiak4sQEQA3jtwBZmFZXBvbYG3nvUUOw4RETUzFiAyeieu5uCbi3cgkVSPvizkHH0RERk6FiAyaoWllVi8p3r09fcB7dG3vZ3IiYiIqCWwAJFRW3HgCrKLytHe3hKLhnP0RURkLFiAyGj9eCUb38ZWj74+GO8Dc7lM7EhERNRCWIDIKBWUViBkbwIAYNagDvBz5+iLiMiYsACRUXpn/2XkFpejo4Mlgp/pInYcIiJqYSxAZHSOXs7CvrgMSCXAB+N9YWbK0RcRkbFhASKjkq+qwNKa0dfspzqiVztbkRMREZEYWIDIqITtv4y8kgp0drTC/IDOYschIiKRsACR0TiUkInvL2VAJpVw9EVEZORYgMgo5JWUY9m+RADAq093hK9bK3EDERGRqFiAyCgs/y4R+aoKeDpZ47VhncSOQ0REImMBIoN3ID4DhxKyIJNKsP4lXyhMOPoiIjJ2LEBk0HKLyxFaM/qaO6QTerRRipyIiIh0AQsQGSxBELBsXwLulVaim4sN5g3h6IuIiKrpRAHauHEjPDw8YGZmBn9/f0RHR//pvoMHD4ZEIqnzCgwM1O5TUlKCefPmoW3btjA3N4eXlxc2b97cEodCOmT/pQwcvZwNE6kE68f7Qm6iE/+7ExGRDhD9J0JkZCSCg4MRFhaG2NhY+Pr6YsSIEcjJyal3/z179iAzM1P7SkxMhEwmw/jx47X7BAcH48iRI/jyyy+RlJSE+fPnY968edi/f39LHRaJLKeoDMu/uwwAeG1oZ3i52oiciIiIdInoBWjDhg2YNWsWZsyYoT1TY2FhgW3bttW7v52dHZydnbWvY8eOwcLColYB+uWXXzBt2jQMHjwYHh4emD17Nnx9fR96ZokMhyAIWLI3AYX3K9Hd1Qb/N6Sj2JGIiEjHiFqAKioqEBMTg4CAAO02qVSKgIAAnD17tkGfsXXrVrz88suwtLTUbuvfvz/279+P9PR0CIKAEydO4Pr16xg+fHi9n1FeXo6ioqJaL9Jfe39Nx49JOTCVVa/6MpWJ3vOJiEjHiPqTIS8vD2q1Gk5OTrW2Ozk5ISsr6y/fHx0djcTERMycObPW9o8//hheXl5o27Yt5HI5nn32WWzcuBFPPfVUvZ8THh4OpVKpfbm5uT36QZGosgrL8M7+6tHX/IAu6OrM0RcREdWl1/803rp1K7y9vdG3b99a2z/++GOcO3cO+/fvR0xMDNavX4+5c+fixx9/rPdzQkJCUFhYqH2lpaW1RHxqYoIgIGRPPIrKquDTVol/PNVB7EhERKSjTMT84vb29pDJZMjOzq61PTs7G87Ozg99r0qlws6dO7FixYpa2+/fv48lS5Zg79692pVhPj4+iIuLwwcffFBr3PaAQqGAQqF4zKMhse2OuYMT13Ihl0nxwXhfmHD0RUREf0LUnxByuRx+fn6IiorSbtNoNIiKikK/fv0e+t5du3ahvLwcf/vb32ptr6ysRGVlJaTS2ocmk8mg0WiaLjzplMzC+1jx/RUAwIJnuqCLk7XIiYiISJeJegYIqF6yPm3aNPTu3Rt9+/ZFREQEVCoVZsyYAQCYOnUq2rRpg/Dw8Frv27p1K8aOHYvWrVvX2m5jY4Onn34ab775JszNzeHu7o5Tp07hP//5DzZs2NBix0UtRxAEvP1tAorLq9DTrRVmDWovdiQiItJxohegCRMmIDc3F8uXL0dWVhZ69uyJI0eOaC+MTk1NrXM259q1azhz5gx++OGHej9z586dCAkJweTJk5Gfnw93d3esWrUKc+bMafbjoZYXeSENp6/nQm7C0RcRETWMRBAEQewQuqaoqAhKpRKFhYWwseEqIl2WXnAfI/55GiXlVVgyqitmP8V7/hARGavG/PzmP5VJbwmCgLd3x6OkvApPtGuFVwZy1RcRETUMCxDprR3RqThzMw+KmtGXTCoROxIREekJFiDSS2n5pVh1MAkA8NazXdHBwUrkREREpE9YgEjvaDQC3todj9IKNfp42GJGfw+xIxERkZ5hASK989X533A2+S7MTKV4f5wvpBx9ERFRI7EAkV5JvVuK1YeuAgAWP9sVHvaWf/EOIiKiuliASG9oNAIW7b6E+5Vq+Le3w9R+HmJHIiIiPcUCRHpj+9nbiE7Jh4VcxtEXERE9FhYg0gspeSqsPVI9+goZ2RXtWluInIiIiPQZCxDpPLVGwJu7LqGsUoP+HVtjsr+72JGIiEjPsQCRzvv85xRc/O0eLOUyrH3Rh6MvIiJ6bCxApNNu5Zbg/aPXAABLA73gZsfRFxERPT4WINJZao2ARbsuobxKg0Gd7TGxr5vYkYiIyECYiB3AmJRWVCFfVSF2DL2xJzYdv6YWwEphgjUv+kAi4eiLiIiaBgtQC/oxKQevf/2r2DH0TujobmjTylzsGEREZEBYgFqQTCKBwoRTx8YY5e2Cl3pz9EVERE2LBagFBfq4INDHRewYRERERo+nI4iIiMjosAARERGR0WEBIiIiIqPDAkRERERGhwWIiIiIjA4LEBERERkdFiAiIiIyOixAREREZHRYgIiIiMjosAARERGR0WEBIiIiIqPDAkRERERGhwWIiIiIjA4LEBERERkdE7ED6CJBEAAARUVFIichIiKihnrwc/vBz/GHYQGqR3FxMQDAzc1N5CRERETUWMXFxVAqlQ/dRyI0pCYZGY1Gg4yMDFhbW0MikTTpZxcVFcHNzQ1paWmwsbFp0s82NPxeNRy/Vw3H71XD8XvVcPxeNU5zfb8EQUBxcTFcXV0hlT78Kh+eAaqHVCpF27Ztm/Vr2NjY8A9JA/F71XD8XjUcv1cNx+9Vw/F71TjN8f36qzM/D/AiaCIiIjI6LEBERERkdFiAWphCoUBYWBgUCoXYUXQev1cNx+9Vw/F71XD8XjUcv1eNowvfL14ETUREREaHZ4CIiIjI6LAAERERkdFhASIiIiKjwwJERERERocFqAVt3LgRHh4eMDMzg7+/P6Kjo8WOpJNOnz6NoKAguLq6QiKRYN++fWJH0lnh4eHo06cPrK2t4ejoiLFjx+LatWtix9JJmzZtgo+Pj/bGa/369cPhw4fFjqUX1qxZA4lEgvnz54sdRee88847kEgktV5du3YVO5bOSk9Px9/+9je0bt0a5ubm8Pb2xsWLF0XJwgLUQiIjIxEcHIywsDDExsbC19cXI0aMQE5OjtjRdI5KpYKvry82btwodhSdd+rUKcydOxfnzp3DsWPHUFlZieHDh0OlUokdTee0bdsWa9asQUxMDC5evIihQ4dizJgxuHz5stjRdNqFCxfwr3/9Cz4+PmJH0Vndu3dHZmam9nXmzBmxI+mke/fuYcCAATA1NcXhw4dx5coVrF+/Hra2tuIEEqhF9O3bV5g7d67212q1WnB1dRXCw8NFTKX7AAh79+4VO4beyMnJEQAIp06dEjuKXrC1tRU+++wzsWPorOLiYqFz587CsWPHhKefflp44403xI6kc8LCwgRfX1+xY+iFt99+Wxg4cKDYMbR4BqgFVFRUICYmBgEBAdptUqkUAQEBOHv2rIjJyNAUFhYCAOzs7EROotvUajV27twJlUqFfv36iR1HZ82dOxeBgYG1/u6ium7cuAFXV1d06NABkydPRmpqqtiRdNL+/fvRu3dvjB8/Ho6OjujVqxe2bNkiWh4WoBaQl5cHtVoNJyenWtudnJyQlZUlUioyNBqNBvPnz8eAAQPQo0cPsePopISEBFhZWUGhUGDOnDnYu3cvvLy8xI6lk3bu3InY2FiEh4eLHUWn+fv744svvsCRI0ewadMmpKSkYNCgQSguLhY7ms5JTk7Gpk2b0LlzZxw9ehSvvvoqXn/9dWzfvl2UPHwaPJGBmDt3LhITE3n9wUN4enoiLi4OhYWF2L17N6ZNm4ZTp06xBP1BWloa3njjDRw7dgxmZmZix9FpI0eO1P63j48P/P394e7ujm+++QavvPKKiMl0j0ajQe/evbF69WoAQK9evZCYmIjNmzdj2rRpLZ6HZ4BagL29PWQyGbKzs2ttz87OhrOzs0ipyJDMmzcPBw4cwIkTJ9C2bVux4+gsuVyOTp06wc/PD+Hh4fD19cWHH34odiydExMTg5ycHDzxxBMwMTGBiYkJTp06hY8++ggmJiZQq9ViR9RZrVq1QpcuXXDz5k2xo+gcFxeXOv/Y6Natm2gjQxagFiCXy+Hn54eoqCjtNo1Gg6ioKF5/QI9FEATMmzcPe/fuxfHjx9G+fXuxI+kVjUaD8vJysWPonGHDhiEhIQFxcXHaV+/evTF58mTExcVBJpOJHVFnlZSU4NatW3BxcRE7is4ZMGBAndt0XL9+He7u7qLk4QishQQHB2PatGno3bs3+vbti4iICKhUKsyYMUPsaDqnpKSk1r+eUlJSEBcXBzs7O7Rr107EZLpn7ty52LFjB7777jtYW1trrylTKpUwNzcXOZ1uCQkJwciRI9GuXTsUFxdjx44dOHnyJI4ePSp2NJ1jbW1d5zoyS0tLtG7dmteX/cGiRYsQFBQEd3d3ZGRkICwsDDKZDBMnThQ7ms5ZsGAB+vfvj9WrV+Oll15CdHQ0/v3vf+Pf//63OIHEXoZmTD7++GOhXbt2glwuF/r27SucO3dO7Eg66cSJEwKAOq9p06aJHU3n1Pd9AiB8/vnnYkfTOX//+98Fd3d3QS6XCw4ODsKwYcOEH374QexYeoPL4Os3YcIEwcXFRZDL5UKbNm2ECRMmCDdv3hQ7ls76/vvvhR49eggKhULo2rWr8O9//1u0LBJBEARxqhcRERGROHgNEBERERkdFiAiIiIyOixAREREZHRYgIiIiMjosAARERGR0WEBIiIiIqPDAkRERERGhwWIiIiIjA4LEBFRPTw8PBARESF2DCJqJixARCS66dOnY+zYsQCAwYMHY/78+S32tb/44gu0atWqzvYLFy5g9uzZLZaDiFoWH4ZKRAapoqICcrn8kd/v4ODQhGmISNfwDBAR6Yzp06fj1KlT+PDDDyGRSCCRSHD79m0AQGJiIkaOHAkrKys4OTlhypQpyMvL07538ODBmDdvHubPnw97e3uMGDECALBhwwZ4e3vD0tISbm5u+L//+z+UlJQAAE6ePIkZM2agsLBQ+/XeeecdAHVHYKmpqRgzZgysrKxgY2ODl156CdnZ2drff+edd9CzZ0/897//hYeHB5RKJV5++WUUFxc37zeNiB4JCxAR6YwPP/wQ/fr1w6xZs5CZmYnMzEy4ubmhoKAAQ4cORa9evXDx4kUcOXIE2dnZeOmll2q9f/v27ZDL5fj555+xefNmAIBUKsVHH32Ey5cvY/v27Th+/DjeeustAED//v0REREBGxsb7ddbtGhRnVwajQZjxoxBfn4+Tp06hWPHjiE5ORkTJkyotd+tW7ewb98+HDhwAAcOHMCpU6ewZs2aZvpuEdHj4AiMiHSGUqmEXC6HhYUFnJ2dtds/+eQT9OrVC6tXr9Zu27ZtG9zc3HD9+nV06dIFANC5c2esW7eu1mf+/noiDw8PvPfee5gzZw4+/fRTyOVyKJVKSCSSWl/vj6KiopCQkICUlBS4ubkBAP7zn/+ge/fuuHDhAvr06QOguih98cUXsLa2BgBMmTIFUVFRWLVq1eN9Y4ioyfEMEBHpvEuXLuHEiROwsrLSvrp27Qqg+qzLA35+fnXe++OPP2LYsGFo06YNrK2tMWXKFNy9exelpaUN/vpJSUlwc3PTlh8A8PLyQqtWrZCUlKTd5uHhoS0/AODi4oKcnJxGHSsRtQyeASIinVdSUoKgoCCsXbu2zu+5uLho/9vS0rLW792+fRujR4/Gq6++ilWrVsHOzg5nzpzBK6+8goqKClhYWDRpTlNT01q/lkgk0Gg0Tfo1iKhpsAARkU6Ry+VQq9W1tj3xxBP49ttv4eHhAROThv+1FRMTA41Gg/Xr10MqrT7h/c033/zl1/ujbt26IS0tDWlpadqzQFeuXEFBQQG8vLwanIeIdAdHYESkUzw8PHD+/Hncvn0beXl50Gg0mDt3LvLz8zFx4kRcuHABt27dwtGjRzFjxoyHlpdOnTqhsrISH3/8MZKTk/Hf//5Xe3H0779eSUkJoqKikJeXV+9oLCAgAN7e3pg8eTJiY2MRHR2NqVOn4umnn0bv3r2b/HtARM2PBYiIdMqiRYsgk8ng5eUFBwcHpKamwtXVFT///DPUajWGDx8Ob29vzJ8/H61atdKe2amPr68vNmzYgLVr16JHjx746quvEB4eXmuf/v37Y86cOZgwYQIcHBzqXEQNVI+yvvvuO9ja2uKpp55CQEAAOnTogMjIyCY/fiJqGRJBEASxQxARERG1JJ4BIiIiIqPDAkRERERGhwWIiIiIjA4LEBERERkdFiAiIiIyOixAREREZHRYgIiIiMjosAARERGR0WEBIiIiIqPDAkRERERGhwWIiIiIjM7/A2ZGZEYICpQvAAAAAElFTkSuQmCC\n",
                  "text/plain": "<Figure size 640x480 with 1 Axes>"
                },
                "metadata": {},
                "output_type": "display_data"
              }
            ]
          }
        },
        "0bc778435c014d28a9061af39059a84d": {
          "model_module": "@jupyter-widgets/base",
          "model_module_version": "1.2.0",
          "model_name": "LayoutModel",
          "state": {
            "_model_module": "@jupyter-widgets/base",
            "_model_module_version": "1.2.0",
            "_model_name": "LayoutModel",
            "_view_count": null,
            "_view_module": "@jupyter-widgets/base",
            "_view_module_version": "1.2.0",
            "_view_name": "LayoutView",
            "align_content": null,
            "align_items": null,
            "align_self": null,
            "border": null,
            "bottom": null,
            "display": null,
            "flex": null,
            "flex_flow": null,
            "grid_area": null,
            "grid_auto_columns": null,
            "grid_auto_flow": null,
            "grid_auto_rows": null,
            "grid_column": null,
            "grid_gap": null,
            "grid_row": null,
            "grid_template_areas": null,
            "grid_template_columns": null,
            "grid_template_rows": null,
            "height": null,
            "justify_content": null,
            "justify_items": null,
            "left": null,
            "margin": null,
            "max_height": null,
            "max_width": null,
            "min_height": null,
            "min_width": null,
            "object_fit": null,
            "object_position": null,
            "order": null,
            "overflow": null,
            "overflow_x": null,
            "overflow_y": null,
            "padding": null,
            "right": null,
            "top": null,
            "visibility": null,
            "width": null
          }
        },
        "22395cddaaa3467e9be000fc15f31818": {
          "model_module": "@jupyter-widgets/base",
          "model_module_version": "1.2.0",
          "model_name": "LayoutModel",
          "state": {
            "_model_module": "@jupyter-widgets/base",
            "_model_module_version": "1.2.0",
            "_model_name": "LayoutModel",
            "_view_count": null,
            "_view_module": "@jupyter-widgets/base",
            "_view_module_version": "1.2.0",
            "_view_name": "LayoutView",
            "align_content": null,
            "align_items": null,
            "align_self": null,
            "border": null,
            "bottom": null,
            "display": null,
            "flex": null,
            "flex_flow": null,
            "grid_area": null,
            "grid_auto_columns": null,
            "grid_auto_flow": null,
            "grid_auto_rows": null,
            "grid_column": null,
            "grid_gap": null,
            "grid_row": null,
            "grid_template_areas": null,
            "grid_template_columns": null,
            "grid_template_rows": null,
            "height": null,
            "justify_content": null,
            "justify_items": null,
            "left": null,
            "margin": null,
            "max_height": null,
            "max_width": null,
            "min_height": null,
            "min_width": null,
            "object_fit": null,
            "object_position": null,
            "order": null,
            "overflow": null,
            "overflow_x": null,
            "overflow_y": null,
            "padding": null,
            "right": null,
            "top": null,
            "visibility": null,
            "width": null
          }
        },
        "4be981ad2b2c42b180a0b63a7c9ec791": {
          "model_module": "@jupyter-widgets/controls",
          "model_module_version": "1.5.0",
          "model_name": "IntSliderModel",
          "state": {
            "_dom_classes": [],
            "_model_module": "@jupyter-widgets/controls",
            "_model_module_version": "1.5.0",
            "_model_name": "IntSliderModel",
            "_view_count": null,
            "_view_module": "@jupyter-widgets/controls",
            "_view_module_version": "1.5.0",
            "_view_name": "IntSliderView",
            "continuous_update": true,
            "description": "step",
            "description_tooltip": null,
            "disabled": false,
            "layout": "IPY_MODEL_acd30114f09d4c698125e1c811dc2998",
            "max": 6,
            "min": 0,
            "orientation": "horizontal",
            "readout": true,
            "readout_format": "d",
            "step": 1,
            "style": "IPY_MODEL_c59bfd40e12145bfb0f2875c93e470ef",
            "value": 6
          }
        },
        "acd30114f09d4c698125e1c811dc2998": {
          "model_module": "@jupyter-widgets/base",
          "model_module_version": "1.2.0",
          "model_name": "LayoutModel",
          "state": {
            "_model_module": "@jupyter-widgets/base",
            "_model_module_version": "1.2.0",
            "_model_name": "LayoutModel",
            "_view_count": null,
            "_view_module": "@jupyter-widgets/base",
            "_view_module_version": "1.2.0",
            "_view_name": "LayoutView",
            "align_content": null,
            "align_items": null,
            "align_self": null,
            "border": null,
            "bottom": null,
            "display": null,
            "flex": null,
            "flex_flow": null,
            "grid_area": null,
            "grid_auto_columns": null,
            "grid_auto_flow": null,
            "grid_auto_rows": null,
            "grid_column": null,
            "grid_gap": null,
            "grid_row": null,
            "grid_template_areas": null,
            "grid_template_columns": null,
            "grid_template_rows": null,
            "height": null,
            "justify_content": null,
            "justify_items": null,
            "left": null,
            "margin": null,
            "max_height": null,
            "max_width": null,
            "min_height": null,
            "min_width": null,
            "object_fit": null,
            "object_position": null,
            "order": null,
            "overflow": null,
            "overflow_x": null,
            "overflow_y": null,
            "padding": null,
            "right": null,
            "top": null,
            "visibility": null,
            "width": null
          }
        },
        "c59bfd40e12145bfb0f2875c93e470ef": {
          "model_module": "@jupyter-widgets/controls",
          "model_module_version": "1.5.0",
          "model_name": "SliderStyleModel",
          "state": {
            "_model_module": "@jupyter-widgets/controls",
            "_model_module_version": "1.5.0",
            "_model_name": "SliderStyleModel",
            "_view_count": null,
            "_view_module": "@jupyter-widgets/base",
            "_view_module_version": "1.2.0",
            "_view_name": "StyleView",
            "description_width": "",
            "handle_color": null
          }
        },
        "f447dccfe5664f61bea2a8840985d965": {
          "model_module": "@jupyter-widgets/controls",
          "model_module_version": "1.5.0",
          "model_name": "VBoxModel",
          "state": {
            "_dom_classes": [
              "widget-interact"
            ],
            "_model_module": "@jupyter-widgets/controls",
            "_model_module_version": "1.5.0",
            "_model_name": "VBoxModel",
            "_view_count": null,
            "_view_module": "@jupyter-widgets/controls",
            "_view_module_version": "1.5.0",
            "_view_name": "VBoxView",
            "box_style": "",
            "children": [
              "IPY_MODEL_4be981ad2b2c42b180a0b63a7c9ec791",
              "IPY_MODEL_05a35567a7ea407ab99cbc9962dc731b"
            ],
            "layout": "IPY_MODEL_0bc778435c014d28a9061af39059a84d"
          }
        }
      }
    }
  },
  "nbformat": 4,
  "nbformat_minor": 0
}
