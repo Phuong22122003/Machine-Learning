{
 "cells": [
  {
   "cell_type": "code",
   "execution_count": 1,
   "metadata": {},
   "outputs": [],
   "source": [
    "import gym\n",
    "# env = gym.make('FrozenLake-v1', render_mode='rbg_array')\n",
    "env = gym.make('FrozenLake-v1', desc=None, map_name=\"4x4\", is_slippery=False)\n",
    "env.reset()\n",
    "state = env.s"
   ]
  },
  {
   "cell_type": "code",
   "execution_count": 2,
   "metadata": {},
   "outputs": [
    {
     "name": "stdout",
     "output_type": "stream",
     "text": [
      "[[0.117649 0.16807  0.16807  0.117649]\n",
      " [0.117649 0.       0.2401   0.16807 ]\n",
      " [0.16807  0.343    0.16807  0.2401  ]\n",
      " [0.2401   0.       0.16807  0.16807 ]\n",
      " [0.16807  0.2401   0.       0.117649]\n",
      " [0.       0.       0.       0.      ]\n",
      " [0.       0.49     0.       0.2401  ]\n",
      " [0.       0.       0.       0.      ]\n",
      " [0.2401   0.       0.343    0.16807 ]\n",
      " [0.2401   0.49     0.49     0.      ]\n",
      " [0.343    0.7      0.       0.343   ]\n",
      " [0.       0.       0.       0.      ]\n",
      " [0.       0.       0.       0.      ]\n",
      " [0.       0.49     0.7      0.343   ]\n",
      " [0.49     0.7      1.       0.49    ]\n",
      " [0.       0.       0.       0.      ]]\n"
     ]
    }
   ],
   "source": [
    "import numpy as np\n",
    "q_table = np.genfromtxt(\"q_table_frozen_lake.csv\", delimiter=',')\n",
    "print(q_table)"
   ]
  },
  {
   "cell_type": "code",
   "execution_count": 4,
   "metadata": {},
   "outputs": [
    {
     "name": "stdout",
     "output_type": "stream",
     "text": [
      "0 -> Action: 1 -> new state: 4\n",
      "4 -> Action: 1 -> new state: 8\n",
      "8 -> Action: 2 -> new state: 9\n",
      "9 -> Action: 1 -> new state: 13\n",
      "13 -> Action: 2 -> new state: 14\n",
      "14 -> Action: 2 -> new state: 15\n",
      "Step: 6\n",
      "Reward: 1.0\n"
     ]
    }
   ],
   "source": [
    "episode = 1\n",
    "total_steps = 0\n",
    "total_reward = 0\n",
    "\n",
    "for i in range (episode):\n",
    "    env.reset()\n",
    "    state = env.s\n",
    "    done = False\n",
    "    reward = n_step = 0\n",
    "\n",
    "    while not done:\n",
    "        print(state, end = ' -> Action: ')\n",
    "        action = np.argmax(q_table[state])\n",
    "        print(action, end = ' -> new state: ')\n",
    "        state, reward, terminated, truncated, info = env.step(action)\n",
    "        print(state)\n",
    "        done = terminated or truncated\n",
    "\n",
    "        n_step += 1\n",
    "\n",
    "    total_steps += n_step\n",
    "    total_reward += reward\n",
    "\n",
    "print(\"Step:\", n_step)\n",
    "print(\"Reward:\", reward)\n",
    "# print(\"Average steps: \", total_steps / episode)\n",
    "# print(\"Average reward: \", total_reward / episode)"
   ]
  },
  {
   "cell_type": "code",
   "execution_count": 5,
   "metadata": {},
   "outputs": [
    {
     "name": "stdout",
     "output_type": "stream",
     "text": [
      "None\n",
      "Step: 6\n"
     ]
    }
   ],
   "source": [
    "from IPython.display import clear_output\n",
    "from time import sleep\n",
    "\n",
    "frames = []\n",
    "\n",
    "env.reset()\n",
    "state = env.s\n",
    "\n",
    "\n",
    "done = False\n",
    "step = 0\n",
    "\n",
    "while not done:\n",
    "    action = np.argmax(q_table[state])\n",
    "\n",
    "    state, reward, terminated, truncated, info = env.step(action)\n",
    "\n",
    "    done = terminated\n",
    "    step += 1\n",
    "    \n",
    "    clear_output(wait=True)\n",
    "    print(env.render())\n",
    "    sleep(.1)\n",
    "print(\"Step:\", step)\n",
    "    "
   ]
  }
 ],
 "metadata": {
  "kernelspec": {
   "display_name": "Python 3",
   "language": "python",
   "name": "python3"
  },
  "language_info": {
   "codemirror_mode": {
    "name": "ipython",
    "version": 3
   },
   "file_extension": ".py",
   "mimetype": "text/x-python",
   "name": "python",
   "nbconvert_exporter": "python",
   "pygments_lexer": "ipython3",
   "version": "3.11.2"
  },
  "orig_nbformat": 4
 },
 "nbformat": 4,
 "nbformat_minor": 2
}
