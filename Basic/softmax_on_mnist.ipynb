{
 "cells": [
  {
   "cell_type": "code",
   "execution_count": 3,
   "metadata": {},
   "outputs": [],
   "source": [
    "import numpy as np\n",
    "import tensorflow as tf\n",
    "from tensorflow.keras.datasets import mnist\n",
    "from tensorflow.keras.utils import to_categorical\n",
    "from matplotlib import pyplot as plt\n",
    "\n",
    "# Tải dữ liệu MNIST và chia thành tập huấn luyện và tập kiểm tra\n",
    "(train_images, train_labels), (test_images, test_labels) = mnist.load_data()\n",
    "\n",
    "# Chuẩn hóa dữ liệu và chuyển đổi nhãn thành one-hot encoding\n",
    "train_images = train_images.astype('float32') / 255\n",
    "test_images = test_images.astype('float32') / 255\n",
    "\n",
    "train_labels = to_categorical(train_labels)\n",
    "test_labels = to_categorical(test_labels)"
   ]
  },
  {
   "cell_type": "code",
   "execution_count": 2,
   "metadata": {},
   "outputs": [],
   "source": [
    "train_images = train_images.reshape(60000,784)\n",
    "test_images = test_images.reshape(10000,784)"
   ]
  },
  {
   "cell_type": "code",
   "execution_count": 30,
   "metadata": {},
   "outputs": [],
   "source": [
    "def soft_max(Z):\n",
    "    # Z = [0,0,0,0,0,0]\n",
    "    e_Z = np.exp(Z)\n",
    "    A = e_Z / e_Z.sum(axis = 1)\n",
    "    # A = [0,0,0,0.99,0.01] \n",
    "    return A\n",
    "def softmax_regression(train_images, test_images, shape):\n",
    "    w = np.random.randn(shape[0],shape[1])#(784*10)\n",
    "    X = train_images\n",
    "    Y = train_labels\n",
    "    r = train_images.shape[0]\n",
    "    c = train_images.shape[1]\n",
    "    eta = 0.05\n",
    "    for i in range(300000):\n",
    "        index = np.random.randint(r)\n",
    "        index = i%60000\n",
    "        x_i = X[index,:].reshape(1,784)\n",
    "        y_i = Y[index,:].reshape(1, 10)\n",
    "        A = soft_max(np.dot(x_i,w))\n",
    "        w = w + eta*x_i.T.dot((y_i-A))\n",
    "    return w\n",
    "\n",
    "w = softmax_regression(train_images,test_images,(784,10))\n",
    "\n",
    "\n"
   ]
  },
  {
   "cell_type": "code",
   "execution_count": 31,
   "metadata": {},
   "outputs": [
    {
     "name": "stdout",
     "output_type": "stream",
     "text": [
      "0.8937833333333334\n"
     ]
    }
   ],
   "source": [
    "from matplotlib import pyplot as plt\n",
    "i = 0\n",
    "for tmp in range(60000):\n",
    "    a = np.dot(train_images[tmp,:].reshape(1,784),w)\n",
    "    # print(np.argmax(a), np.argmax(train_labels[tmp]))\n",
    "    if np.argmax(a) == np.argmax(train_labels[tmp]):i+=1\n",
    "    # plt.imshow(train_images[tmp].reshape(28,28))\n",
    "    # plt.show()\n",
    "print(i/60000)\n"
   ]
  }
 ],
 "metadata": {
  "kernelspec": {
   "display_name": "Python 3",
   "language": "python",
   "name": "python3"
  },
  "language_info": {
   "codemirror_mode": {
    "name": "ipython",
    "version": 3
   },
   "file_extension": ".py",
   "mimetype": "text/x-python",
   "name": "python",
   "nbconvert_exporter": "python",
   "pygments_lexer": "ipython3",
   "version": "3.11.2"
  }
 },
 "nbformat": 4,
 "nbformat_minor": 2
}
