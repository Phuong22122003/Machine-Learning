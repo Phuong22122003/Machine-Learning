{
 "cells": [
  {
   "cell_type": "code",
   "execution_count": 24,
   "metadata": {},
   "outputs": [],
   "source": [
    "import tkinter as tk\n",
    "from tkinter import filedialog as fd\n",
    "import cv2 as cv\n",
    "import numpy as np\n",
    "from tensorflow.keras.models import load_model\n",
    "from PIL import Image, ImageTk"
   ]
  },
  {
   "cell_type": "code",
   "execution_count": 25,
   "metadata": {},
   "outputs": [],
   "source": [
    "import numpy as np\n",
    "import tensorflow as tf\n",
    "from tensorflow.keras.datasets import mnist\n",
    "from tensorflow.keras.models import Sequential\n",
    "from tensorflow.keras.layers import Flatten, Dense, InputLayer\n",
    "from tensorflow.keras.utils import to_categorical\n",
    "from matplotlib import pyplot as plt\n",
    "\n",
    "# Tải dữ liệu MNIST và chia thành tập huấn luyện và tập kiểm tra\n",
    "(train_images, train_labels), (test_images, test_labels) = mnist.load_data()\n",
    "\n",
    "# Chuẩn hóa dữ liệu và chuyển đổi nhãn thành one-hot encoding\n",
    "train_images = train_images.astype('float32') / 255\n",
    "test_images = test_images.astype('float32') / 255\n",
    "\n",
    "train_labels = to_categorical(train_labels)\n",
    "test_labels = to_categorical(test_labels)"
   ]
  },
  {
   "cell_type": "code",
   "execution_count": 29,
   "metadata": {},
   "outputs": [],
   "source": [
    "class Canvas():\n",
    "    \n",
    "    def __init__(self,window):\n",
    "        self.window = window\n",
    "        self.canvas1 = tk.Canvas(self.window, width=600, height=500, bg='white')\n",
    "        self.canvas2 = tk.Canvas(self.window, width=300, height=500, bg='white')\n",
    "        self.canvas1.create_rectangle(2, 3, 597, 495, outline='black', width=2)\n",
    "        self.canvas1.create_line(5, 50, 595, 50, fill=\"black\", width=2)\n",
    "        self.canvas2.create_line(5, 100, 297, 100, fill=\"black\", width=2)\n",
    "        self.canvas2.create_rectangle(5,3,295,495,outline='black',width=2)\n",
    "        self.canvas2.create_text(170,520,text=\"Button\",font=(\"Time New Roman\", 15))\n",
    "        self.canvas2.create_text(50,30,text=\"Predict: \",font=(\"Time New Roman\", 15))\n",
    "        self.canvas2.create_text(65,80,text=\"Truth Label: \",font=(\"Time New Roman\", 15))\n",
    "        self.canvas1.create_text(350,25,text=\"PHÂN LOẠI CHỮ SỐ VIẾT TAY\",font=(\"Arial\", 25))\n",
    "        self.canvas1.place(x=0,y=0)\n",
    "        self.canvas2.place(x=600,y=0)\n",
    "    def __init__1(self):\n",
    "        self.canvas1 = tk.Canvas(self.window, width=600, height=500, bg='white')\n",
    "        self.canvas1.create_rectangle(2, 3, 597, 495, outline='black', width=2)\n",
    "        self.canvas1.create_text(350,25,text=\"PHÂN LOẠI CHỮ SỐ VIẾT TAY\",font=(\"Arial\", 25))\n",
    "        self.canvas1.place(x=0,y=0)\n",
    "        self.canvas1.create_line(5, 50, 595, 50, fill=\"black\", width=2)\n",
    "    def clear_console(self):\n",
    "        self.canvas1.delete('all')\n",
    "        self.__init__1()\n",
    "        \n",
    "    def getCanvas(self):\n",
    "        return self.canvas2"
   ]
  },
  {
   "cell_type": "code",
   "execution_count": 30,
   "metadata": {},
   "outputs": [],
   "source": [
    "class interface():\n",
    "    def __init__(self):\n",
    "        img = None\n",
    "        action = None\n",
    "        self.window = tk.Tk()\n",
    "        self.window.geometry(\"900x550\")\n",
    "        self.window.title(\"PHÂN LOẠI CHỮ VIẾT TAY\")\n",
    "        \n",
    "        self.canvas= Canvas(self.window)\n",
    "\n",
    "        self.button1 = tk.Button(self.window,text=\"    Training    \",command=lambda: self.canvas.clear_console())\n",
    "        self.button1.place(x=720 ,y=300)\n",
    "\n",
    "        self.button2 = tk.Button(self.window,text=\"    Choose Image    \",command=lambda: choose_image(self.window,self.canvas.getCanvas(),test_labels))\n",
    "        self.button2.place(x=200 ,y=510)\n",
    "\n",
    "        # self.button5 = tk.Button(self.window,text=\"    Check    \",command=lambda: check(img))\n",
    "        # self.button5.place(x=320 ,y=510)\n",
    "\n",
    "        self.button3 = tk.Button(self.window,text=\"    Clear    \",command=lambda: self.canvas.clear_console())\n",
    "        self.button3.place(x=725 ,y=370)\n",
    "\n",
    "        self.button4 = tk.Button(self.window,text=\"    EXIT    \",command= lambda:self.close())\n",
    "        self.button4.place(x=730,y=450)\n",
    "\n",
    "        # Chạy vòng lặp chính\n",
    "        self.window.mainloop()\n",
    "    def close(self):\n",
    "        self.window.destroy()"
   ]
  },
  {
   "cell_type": "code",
   "execution_count": 51,
   "metadata": {},
   "outputs": [],
   "source": [
    "def choose_image(window,canvas,Labels):\n",
    "    try:\n",
    "        path = fd.askopenfilename(filetypes=[(\"Image Files\", \"*.png;*.jpg;*.jpeg\")])\n",
    "    except:\n",
    "        return\n",
    "    index = int(path.split(\"img\")[-1].split(\".\")[0])\n",
    "    print(index)\n",
    "    image = cv.imread(path,cv.COLOR_BGR2GRAY)\n",
    "    if image is None:\n",
    "        return\n",
    "    img = cv.resize(image,(28,28))/255\n",
    "    model = load_model(\"train.keras\")\n",
    "    predictLabel = np.argmax(model.predict(image.reshape(1,28,28),verbose=0))\n",
    "    truthLabel = np.argmax(Labels[index])\n",
    "    canvas.create_text(150,30,text=str(predictLabel),font=(\"Time New Roman\", 15))\n",
    "    canvas.create_text(150,80,text=str(truthLabel),font=(\"Time New Roman\", 15))\n",
    "    img = Image.fromarray(cv.cvtColor(image,cv.COLOR_BGR2RGB))\n",
    "    img = img.resize((585, 432), Image.LANCZOS)\n",
    "    img=ImageTk.PhotoImage(img)\n",
    "    panel = tk.Label(window, image=img)\n",
    "    panel.image = img\n",
    "    panel.place(x=4,y=55)"
   ]
  },
  {
   "cell_type": "code",
   "execution_count": 184,
   "metadata": {},
   "outputs": [],
   "source": [
    "# def check(image):\n",
    "#     global action\n",
    "#     model = load_model(\"train.keras\")\n",
    "#     if image == None: print(\"none\")\n",
    "#     action = np.argmax(model.predict(image.reshape(1,28,28),verbose=0))"
   ]
  },
  {
   "cell_type": "code",
   "execution_count": 54,
   "metadata": {},
   "outputs": [
    {
     "name": "stdout",
     "output_type": "stream",
     "text": [
      "64\n"
     ]
    }
   ],
   "source": [
    "if __name__== '__main__':\n",
    "    interface()\n",
    "    "
   ]
  }
 ],
 "metadata": {
  "kernelspec": {
   "display_name": "Python 3",
   "language": "python",
   "name": "python3"
  },
  "language_info": {
   "codemirror_mode": {
    "name": "ipython",
    "version": 3
   },
   "file_extension": ".py",
   "mimetype": "text/x-python",
   "name": "python",
   "nbconvert_exporter": "python",
   "pygments_lexer": "ipython3",
   "version": "3.11.2"
  },
  "orig_nbformat": 4
 },
 "nbformat": 4,
 "nbformat_minor": 2
}
