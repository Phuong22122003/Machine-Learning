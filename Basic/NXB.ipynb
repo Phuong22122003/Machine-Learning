{
 "cells": [
  {
   "cell_type": "markdown",
   "metadata": {},
   "source": [
    "tìm (x,y,z,t) = argmin 5x+10y+15z+4t\n",
    "\n",
    "x + z = 600\n",
    "y + t = 400\n",
    "x + y <= 800\n",
    "z + t <= 700\n",
    "x,y,z,t >= 0"
   ]
  },
  {
   "cell_type": "code",
   "execution_count": 40,
   "metadata": {},
   "outputs": [
    {
     "name": "stdout",
     "output_type": "stream",
     "text": [
      "10620\n",
      "[-7.29912658e-13 -1.45982532e-12  5.60000000e+02  3.72000000e+02]\n",
      "9888.00000000956\n"
     ]
    }
   ],
   "source": [
    "import numpy as np\n",
    "def value(vector):\n",
    "    return 5*vector[0] + 10*vector[1] + 15*vector[2] + 4* vector[3]\n",
    "def caculate():\n",
    "    vector = np.array([10,20,590,380])\n",
    "    eta = 0.0001\n",
    "    print(value(vector))\n",
    "    while True:\n",
    "        vector = vector-eta*np.array([5,10,15,4])\n",
    "        if(np.min(vector)<0 or vector[0]+vector[2]>800 or vector[1]+vector[3]>700):break\n",
    "    print((vector))\n",
    "    print(value(vector))\n",
    "caculate()"
   ]
  },
  {
   "cell_type": "code",
   "execution_count": 31,
   "metadata": {},
   "outputs": [
    {
     "name": "stdout",
     "output_type": "stream",
     "text": [
      "[3 2 5]\n"
     ]
    }
   ],
   "source": [
    "a = np.array([1,2,3])\n",
    "a=a+np.array([2,0,2])\n",
    "print(a)"
   ]
  }
 ],
 "metadata": {
  "kernelspec": {
   "display_name": "Python 3",
   "language": "python",
   "name": "python3"
  },
  "language_info": {
   "codemirror_mode": {
    "name": "ipython",
    "version": 3
   },
   "file_extension": ".py",
   "mimetype": "text/x-python",
   "name": "python",
   "nbconvert_exporter": "python",
   "pygments_lexer": "ipython3",
   "version": "3.11.2"
  }
 },
 "nbformat": 4,
 "nbformat_minor": 2
}
