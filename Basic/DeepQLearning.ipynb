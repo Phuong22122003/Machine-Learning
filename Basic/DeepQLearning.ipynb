{
 "cells": [
  {
   "cell_type": "code",
   "execution_count": 1,
   "metadata": {},
   "outputs": [],
   "source": [
    "import numpy as np\n",
    "import tensorflow as tf\n",
    "from tensorflow.keras.datasets import mnist\n",
    "from tensorflow.keras.models import Sequential\n",
    "from tensorflow.keras.layers import Flatten, Dense\n",
    "from tensorflow.keras.utils import to_categorical\n",
    "from matplotlib import pyplot as plt\n",
    "import cv2\n",
    "# Tải dữ liệu MNIST và chia thành tập huấn luyện và tập kiểm tra\n",
    "(train_images, train_labels), (test_images, test_labels) = mnist.load_data()\n",
    "\n",
    "# Chuẩn hóa dữ liệu và chuyển đổi nhãn thành one-hot encoding\n",
    "train_images = train_images.astype('float32') / 255\n",
    "test_images = test_images.astype('float32') / 255\n",
    "\n",
    "train_labels = to_categorical(train_labels)\n",
    "test_labels = to_categorical(test_labels)\n"
   ]
  },
  {
   "cell_type": "code",
   "execution_count": 2,
   "metadata": {},
   "outputs": [],
   "source": [
    "model = Sequential()\n",
    "model.add(Flatten(input_shape=(28,28)))\n",
    "model.add(Dense(128, activation='relu'))\n",
    "model.add(Dense(10, activation='linear'))\n",
    "model.compile(optimizer='adam',loss='mse',metrics=['accuracy'])"
   ]
  },
  {
   "cell_type": "code",
   "execution_count": 3,
   "metadata": {},
   "outputs": [],
   "source": [
    "train_images = train_images.reshape(60000,784)\n",
    "test_images = test_images.reshape(10000,784)\n"
   ]
  },
  {
   "cell_type": "code",
   "execution_count": 14,
   "metadata": {},
   "outputs": [],
   "source": [
    "class env:\n",
    "    def __init__(self,train_images,train_labels):\n",
    "        self.train_images = train_images\n",
    "        self.train_labels = train_labels\n",
    "    def penalty(self,predictLable,indexInTrainLable):\n",
    "        trueLable =  np.argmax( self.train_labels[indexInTrainLable] )\n",
    "        if predictLable == trueLable:\n",
    "            penalty = 1\n",
    "        else: penalty = 100\n",
    "        return penalty,trueLable\n",
    "    def action(self,act,index):\n",
    "        return self.penalty(act,index)\n",
    "class agent:\n",
    "    def __init__(self,train_images,train_labels):\n",
    "        self.train_images = train_images\n",
    "        self.train_labels = train_labels\n",
    "        self.learning_rate = 1e-8\n",
    "        self.env = env(self.train_images,self.train_labels)\n",
    "        self.w = np.zeros([10,784])\n",
    "    def predict(self,image,training=\"No\"):\n",
    "        # image = image.reshape(1,784)\n",
    "        if training == \"Yes\":\n",
    "            w = self.w\n",
    "        else: w = self.w_max\n",
    "        min = np.linalg.norm(w[0,:]-image)\n",
    "        index =0\n",
    "        for i in range(10):\n",
    "            min1=np.linalg.norm(w[i,:]-image)\n",
    "            if min>min1:\n",
    "                index = i\n",
    "                min = min1\n",
    "        return index\n",
    "    def update_w(self):\n",
    "        count = 0\n",
    "        for i in range(self.train_images.shape[0]):\n",
    "            action = self.predict(self.train_images[i],training=\"Yes\")\n",
    "            penalty, trueLable = self.env.action(action,i)\n",
    "            if penalty == 1:\n",
    "                self.w[action,:] =  self.w[action,:]+self.train_images[i]*self.learning_rate*penalty\n",
    "                count +=1\n",
    "            else: \n",
    "                self.w[trueLable,:]= self.w[trueLable,:] +  self.train_images[i]*self.learning_rate*penalty\n",
    "                self.w[action,:]= self.w[action,:] -  self.train_images[i]*self.learning_rate*penalty\n",
    "                for i in range(10):\n",
    "                    if i!=trueLable and i !=action:\n",
    "                        self.w[i,:]= self.w[i,:] -  self.train_images[i]*self.learning_rate*0.001\n",
    "        return self.w,count\n",
    "    def train(self):\n",
    "        self.w_max,max_count = self.update_w()\n",
    "        print(\"===================>\",max_count)\n",
    "        for i in range(30):\n",
    "            w ,count = self.update_w()\n",
    "            print(\"===================>\",count)\n",
    "            if max_count<count:\n",
    "                max_count=count\n",
    "                self.w_max = w\n",
    "            elif self.learning_rate>= 1e-10 : self.learning_rate -=0.2*self.learning_rate\n",
    "            # if max_count - count >50:\n",
    "            #     break\n",
    "        return self.w_max\n",
    "    def evaluate(self,set_images,set_labels):\n",
    "        number =0\n",
    "        for i in range(set_images.shape[0]):\n",
    "            image = set_images[i]\n",
    "            label = np.argmax(set_labels[i])\n",
    "            predicted_label= self.predict(image) \n",
    "            if predicted_label == label: number+=1\n",
    "        print(number)\n",
    "        print((float(number / set_images.shape[0]))*100)\n"
   ]
  },
  {
   "cell_type": "code",
   "execution_count": 15,
   "metadata": {},
   "outputs": [
    {
     "name": "stdout",
     "output_type": "stream",
     "text": [
      "===================> 51869\n",
      "===================> 53449\n",
      "===================> 53786\n",
      "===================> 54040\n",
      "===================> 54133\n",
      "===================> 54242\n",
      "===================> 54329\n",
      "===================> 54343\n",
      "===================> 54416\n",
      "===================> 54474\n",
      "===================> 54512\n",
      "===================> 54528\n",
      "===================> 54543\n",
      "===================> 54534\n",
      "===================> 54926\n",
      "===================> 54816\n",
      "===================> 54945\n",
      "===================> 54977\n",
      "===================> 54945\n",
      "===================> 55131\n",
      "===================> 55084\n",
      "===================> 55179\n",
      "===================> 55172\n",
      "===================> 55294\n",
      "===================> 55284\n",
      "===================> 55375\n",
      "===================> 55341\n",
      "===================> 55417\n",
      "===================> 55390\n",
      "===================> 55471\n",
      "===================> 55465\n"
     ]
    }
   ],
   "source": [
    "ag = agent(train_images,train_labels)\n",
    "w=ag.train()"
   ]
  },
  {
   "cell_type": "code",
   "execution_count": 16,
   "metadata": {},
   "outputs": [
    {
     "name": "stdout",
     "output_type": "stream",
     "text": [
      "9063\n",
      "90.63\n"
     ]
    }
   ],
   "source": [
    "ag.evaluate(test_images,test_labels)"
   ]
  },
  {
   "cell_type": "code",
   "execution_count": 19,
   "metadata": {},
   "outputs": [
    {
     "name": "stdout",
     "output_type": "stream",
     "text": [
      "9\n"
     ]
    },
    {
     "data": {
      "image/png": "[encoded data removed]",
      "text/plain": [
       "<Figure size 640x480 with 1 Axes>"
      ]
     },
     "metadata": {},
     "output_type": "display_data"
    }
   ],
   "source": [
    "i =9\n",
    "label = ag.predict(test_images[i])\n",
    "print(label)\n",
    "plt.imshow(test_images[i].reshape(28,28))\n",
    "plt.show()"
   ]
  }
 ],
 "metadata": {
  "kernelspec": {
   "display_name": "Python 3",
   "language": "python",
   "name": "python3"
  },
  "language_info": {
   "codemirror_mode": {
    "name": "ipython",
    "version": 3
   },
   "file_extension": ".py",
   "mimetype": "text/x-python",
   "name": "python",
   "nbconvert_exporter": "python",
   "pygments_lexer": "ipython3",
   "version": "3.11.2"
  },
  "orig_nbformat": 4
 },
 "nbformat": 4,
 "nbformat_minor": 2
}
