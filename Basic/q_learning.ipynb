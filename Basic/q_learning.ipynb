{
 "cells": [
  {
   "cell_type": "markdown",
   "metadata": {},
   "source": [
    "chuẩn bị dữ liệu"
   ]
  },
  {
   "cell_type": "code",
   "execution_count": 1,
   "metadata": {},
   "outputs": [],
   "source": [
    "import numpy as np\n",
    "import tensorflow as tf\n",
    "from tensorflow.keras.datasets import mnist\n",
    "from tensorflow.keras.models import Sequential\n",
    "from tensorflow.keras.layers import Flatten, Dense\n",
    "from tensorflow.keras.utils import to_categorical\n",
    "from matplotlib import pyplot as plt\n",
    "\n",
    "# Tải dữ liệu MNIST và chia thành tập huấn luyện và tập kiểm tra\n",
    "(train_images, train_labels), (test_images, test_labels) = mnist.load_data()\n",
    "\n",
    "# Chuẩn hóa dữ liệu và chuyển đổi nhãn thành one-hot encoding\n",
    "train_images = train_images.astype('float32') / 255\n",
    "test_images = test_images.astype('float32') / 255\n",
    "\n",
    "train_labels = to_categorical(train_labels)\n",
    "test_labels = to_categorical(test_labels)"
   ]
  },
  {
   "cell_type": "markdown",
   "metadata": {},
   "source": [
    "xử lý dữ liệu"
   ]
  },
  {
   "cell_type": "code",
   "execution_count": 2,
   "metadata": {},
   "outputs": [
    {
     "name": "stdout",
     "output_type": "stream",
     "text": [
      "(60000, 784)\n",
      "(10000, 784)\n"
     ]
    }
   ],
   "source": [
    "#flatten train and test img\n",
    "train_images = train_images.reshape(60000,784)\n",
    "print(train_images.shape)\n",
    "test_images = test_images.reshape(10000,784)\n",
    "print(test_images.shape)"
   ]
  },
  {
   "cell_type": "markdown",
   "metadata": {},
   "source": [
    "hàm dự đoán"
   ]
  },
  {
   "cell_type": "code",
   "execution_count": 3,
   "metadata": {},
   "outputs": [],
   "source": [
    "def predict(test_image,q):\n",
    "    min = np.linalg.norm(q[0,:]-test_image)\n",
    "    index =0\n",
    "    for i in range(10):\n",
    "        min1=np.linalg.norm(q[i,:]-test_image)\n",
    "        if min>min1:\n",
    "            index = i\n",
    "            min = min1\n",
    "    return index"
   ]
  },
  {
   "cell_type": "markdown",
   "metadata": {},
   "source": [
    "hàm tính độ chính xác"
   ]
  },
  {
   "cell_type": "code",
   "execution_count": 4,
   "metadata": {},
   "outputs": [],
   "source": [
    "def accuracy(set_images,set_labels,q_table):\n",
    "    number =0\n",
    "    for i in range(set_images.shape[0]):\n",
    "        image = set_images[i]\n",
    "        label = np.argmax(set_labels[i])\n",
    "        predicted_label= predict(image,q_table) \n",
    "        if predicted_label == label: number+=1\n",
    "    print(number)\n",
    "    return (float(number / set_images.shape[0]))*100"
   ]
  },
  {
   "cell_type": "markdown",
   "metadata": {},
   "source": [
    "hàm cập nhật"
   ]
  },
  {
   "cell_type": "code",
   "execution_count": 5,
   "metadata": {},
   "outputs": [],
   "source": [
    "def update_q(q,set_images,set_labels,rate_learning=1e-10):\n",
    "    count = 0\n",
    "    for i in range(60000):\n",
    "        trueLable = np.argmax(set_labels[i])\n",
    "        preLable = predict(set_images[i],q)\n",
    "        # print(preLable)\n",
    "        if trueLable == preLable:\n",
    "            q[trueLable,:]= q[trueLable,:] +  set_images[i]*rate_learning\n",
    "            count +=1\n",
    "        else: \n",
    "            q[trueLable,:]= q[trueLable,:] +  set_images[i]*rate_learning*100\n",
    "            q[preLable,:]= q[preLable,:] -  set_images[i]*rate_learning*100\n",
    "            for i in range(10):\n",
    "                if i!=trueLable and i !=preLable:\n",
    "                    q[i,:]= q[i,:] -  set_images[i]*rate_learning*0.001\n",
    "    return count,q"
   ]
  },
  {
   "cell_type": "markdown",
   "metadata": {},
   "source": [
    "train"
   ]
  },
  {
   "cell_type": "code",
   "execution_count": 7,
   "metadata": {},
   "outputs": [
    {
     "name": "stdout",
     "output_type": "stream",
     "text": [
      "(10, 784)\n",
      "51869\n",
      "53449\n",
      "53786\n",
      "54040\n",
      "54133\n",
      "54242\n",
      "54329\n",
      "54343\n",
      "54416\n",
      "54474\n",
      "54512\n",
      "54528\n",
      "54543\n",
      "54534\n",
      "54671\n",
      "54665\n",
      "54646\n",
      "54764\n",
      "54738\n",
      "54736\n",
      "54729\n",
      "54779\n",
      "54730\n",
      "54771\n",
      "54785\n",
      "54850\n",
      "54834\n",
      "54827\n",
      "54849\n",
      "54867\n",
      "54870\n",
      "54915\n",
      "54889\n",
      "54868\n",
      "54903\n",
      "54919\n",
      "54939\n",
      "54894\n",
      "54960\n"
     ]
    },
    {
     "ename": "",
     "evalue": "",
     "output_type": "error",
     "traceback": [
      "\u001b[1;31mThe Kernel crashed while executing code in the the current cell or a previous cell. Please review the code in the cell(s) to identify a possible cause of the failure. Click <a href='https://aka.ms/vscodeJupyterKernelCrash'>here</a> for more info. View Jupyter <a href='command:jupyter.viewOutput'>log</a> for further details."
     ]
    }
   ],
   "source": [
    "q = np.zeros([10,784])\n",
    "print(q.shape)\n",
    "max = 0\n",
    "qTemp=qMax = q\n",
    "learningRate = 1e-8\n",
    "for i in range(50):\n",
    "    maxTemp,qTemp =update_q(qTemp,train_images,train_labels,learningRate)\n",
    "    print(maxTemp)\n",
    "    if  maxTemp>max:\n",
    "        qMax =qTemp\n",
    "        max = maxTemp\n",
    "    # else: learningRate-= learningRate*0.2\n",
    "    # if max-maxTemp>20:\n",
    "    #     break\n"
   ]
  },
  {
   "cell_type": "markdown",
   "metadata": {},
   "source": [
    "thử với test"
   ]
  },
  {
   "cell_type": "code",
   "execution_count": null,
   "metadata": {},
   "outputs": [],
   "source": [
    "a = accuracy(test_images[0:100,:],test_labels,qMax)\n",
    "print(a)"
   ]
  },
  {
   "cell_type": "markdown",
   "metadata": {},
   "source": [
    "thử với ảnh"
   ]
  },
  {
   "cell_type": "code",
   "execution_count": null,
   "metadata": {},
   "outputs": [],
   "source": [
    "for i in range(100):\n",
    "    pre  = predict(test_images[i].reshape(1,784),qMax)\n",
    "    print(i)\n",
    "    print(\"pre\",pre)\n",
    "    print(\"truth\",np.argmax(test_labels[i]))\n",
    "    plt.imshow(test_images[i,:].reshape(28,28))\n",
    "    plt.show()"
   ]
  }
 ],
 "metadata": {
  "kernelspec": {
   "display_name": "Python 3",
   "language": "python",
   "name": "python3"
  },
  "language_info": {
   "codemirror_mode": {
    "name": "ipython",
    "version": 3
   },
   "file_extension": ".py",
   "mimetype": "text/x-python",
   "name": "python",
   "nbconvert_exporter": "python",
   "pygments_lexer": "ipython3",
   "version": "3.11.2"
  },
  "orig_nbformat": 4
 },
 "nbformat": 4,
 "nbformat_minor": 2
}
