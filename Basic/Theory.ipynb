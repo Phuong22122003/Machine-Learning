{
 "cells": [
  {
   "cell_type": "markdown",
   "metadata": {},
   "source": [
    "list:\n",
    "- append(): thêm vào cuối. append thêm toàn bộ phần tử đó và list\n",
    "- extend(x): thêm từng phần tử 1 trong x vào list \n",
    "- pop(index): index=-1 mặc định và trả về giá trị vừa lấy ra. Nếu vị trí đó ko có thì lỗi hoặc list rỗng là lỗi\n",
    "- insert(index,value): chèn vào vị trí, nếu l.insert(len(l),value) = append()\n",
    "- remove(x): remove first item whose value is equal to x. If this value not in l, it throw error \n",
    "- sort(): sort item in same type\n",
    "- min,max,sum: calculate sum of all item in list. if it's not same type error occur"
   ]
  },
  {
   "cell_type": "code",
   "execution_count": 372,
   "metadata": {},
   "outputs": [
    {
     "name": "stdout",
     "output_type": "stream",
     "text": [
      "[4, 5, 6, 7, 8, 9, 'a']\n",
      "['a', 'b', 'c']\n",
      "[1, 2, 3, 4, 5, 6, 7, 8]\n"
     ]
    }
   ],
   "source": [
    "l = [1,2,3,4,5,6,7,8,9,'a']\n",
    "a = l.__delitem__(1)\n",
    "a=l.pop(1)\n",
    "a = l.remove(1)\n",
    "print(l)\n",
    "a = ['a','b','c']\n",
    "\n",
    "print(a)\n",
    "a = [1, 2, 7, 8]\n",
    "a[1:2] = [2,3,4,5,6]\n",
    "print(a)"
   ]
  },
  {
   "cell_type": "markdown",
   "metadata": {},
   "source": [
    "String:\n",
    "• Phương thức count(x,[start,end]): đếm số phần tử trong chuổi. Nếu không có tham số thì sẽ đếm hết tất cả các kí tự và kí tự '\\n'\n",
    "• Phương thức capitalize(): Chỉ viết hoa chữ cái đầu trong câu nếu trong câu có nhiều chỗ viết hoa vẫn đưa về viết thường\n",
    "• Phương thức upper(): Viết hoa tất cả các chữ\n",
    "• Phương thức lower(): Viết thường tất cả các chữ\n",
    "• Phương thức title(): Viết hoa tất cả chữ cái đầu mỗi từ\n",
    "• Phương thức lstrip(value): xóa tất cả các value bên trái đến khi găp kí tự khác \n",
    "• Phương thức strip(Value): Xóa tất cả các value bên trái và bên phải đến khi gặp kí tự khác\n",
    "• Phương thức split(value,num): Chia các chữ ra thành một list. num là số lần chia\n",
    "• Phương thức join(): <Kí tự nối>.join(('abc','cdf','egh'))\n",
    "• Phương thức find(substring,[start,end]): Tìm các chuỗi con và trả về vị trí phát hiện\n",
    "• Phương thức replace(old,new,[count]):print(\"aaaaa\".replace('a','b',1))\n",
    "• Phương thức center(length,determent):a = \"abc\";a = a.center(3,'_')\n",
    "• Phương thức rjust(length,determent):chèn qua bên trái chuỗi\n",
    "\n",
    "*Format:\n",
    "    +  '%x'%('value'):\n",
    "        +   x = c: value must char type\n",
    "        +   x = d: integer\n",
    "        +   x = x: hex\n",
    "        ..."
   ]
  },
  {
   "cell_type": "code",
   "execution_count": 22,
   "metadata": {},
   "outputs": [
    {
     "name": "stdout",
     "output_type": "stream",
     "text": [
      "\n",
      "xin chào\n",
      "\n"
     ]
    }
   ],
   "source": [
    "\n",
    "a = '''\n",
    "xin chào\n",
    "'''\n",
    "print(a)"
   ]
  },
  {
   "cell_type": "markdown",
   "metadata": {},
   "source": [
    "Dictionary:\n",
    "    + get(key,given value): if not found key it return None or given value\n",
    "    + __delitem__(key): \n",
    "    + clear(): delete all item\n",
    "    + items(): all values\n",
    "    "
   ]
  },
  {
   "cell_type": "code",
   "execution_count": 353,
   "metadata": {},
   "outputs": [
    {
     "name": "stdout",
     "output_type": "stream",
     "text": [
      "['a', 'b', 'c']\n",
      "{1: 2, 5: 2}\n",
      "{'a': 'xin chào', 'b': 'chào lại'}\n",
      "abc\n",
      "(1, 'abc')\n",
      "(2, 'abc')\n"
     ]
    }
   ],
   "source": [
    "dic = {'a':1,'c':2,'b':3}\n",
    "dic  = sorted(dic)\n",
    "print(dic)\n",
    "dic = [[1,2],[5,2]]\n",
    "dic = dict(dic)\n",
    "print(dic)\n",
    "a = dict(a=\"xin chào\",b = \"chào lại\")\n",
    "print(a)\n",
    "a = (1,2)\n",
    "b = \"abc\"\n",
    "c = dict.fromkeys(a,b)\n",
    "print(c.get(1))\n",
    "c.pop('a',\"KHONG CO\")\n",
    "for i in c.items():\n",
    "    print(i)"
   ]
  },
  {
   "cell_type": "markdown",
   "metadata": {},
   "source": [
    "tupple:\n",
    "- tuple can't assign\n",
    "- Tuples also have two type-specific callable methods:\n",
    "    + count(x): return the number of times the given element appears in the tupe\n",
    "- tupe(x): x must iterable\n",
    "- when print((a,)): result is (a,)\n",
    "- We can use + operator to combine two tuples."
   ]
  },
  {
   "cell_type": "code",
   "execution_count": 354,
   "metadata": {},
   "outputs": [
    {
     "name": "stdout",
     "output_type": "stream",
     "text": [
      "((1, 2), (3, 4))\n"
     ]
    }
   ],
   "source": [
    "a = (1,2)\n",
    "b = (3,4)\n",
    "c =(a,) + (b,)\n",
    "print(c)"
   ]
  },
  {
   "cell_type": "markdown",
   "metadata": {},
   "source": [
    "set:\n",
    "+ set.pop(): xóa phần tử đầu\n",
    "+ set không chứa các phần tử mutable như list hoặc các đối tượng unhashable type\n",
    "+ discard(x): xóa phần tử đó trong set nếu không có thì bỏ qua\n",
    "+ remove(x): xóa phần tử nếu không có thì sẽ gây ra lỗi\n",
    "\n",
    "+ union() <=> | : A.union(B) hoặc A|B\n",
    "+ intersection <=> & : A.intersection(B) hoặc A&B đây là phép giao\n",
    "+ difference() <=> -: A.difference(B) hoặc A - B đây là phép hiệu\n",
    "+ symmetric_difference() <=> ^: Phép xor "
   ]
  },
  {
   "cell_type": "code",
   "execution_count": 386,
   "metadata": {},
   "outputs": [
    {
     "name": "stdout",
     "output_type": "stream",
     "text": [
      "{1, 2, 3, 4, 5, 6, 7, 8, 9, 10}\n",
      "{1, 2, 3, 4, 5, 6, 7, 8, 9, 10}\n",
      "{1, 2, 3}\n",
      "{1, 2, 3}\n",
      "{4, 5, 6}\n",
      "{4, 5, 6}\n",
      "{4, 5, 6, 7, 8, 9, 10}\n",
      "{4, 5, 6, 7, 8, 9, 10}\n"
     ]
    }
   ],
   "source": [
    "a = {1,2,3,4,5,6}\n",
    "b = {7,8,9,1,2,3,10}\n",
    "c = a|b\n",
    "print(c)\n",
    "c = a.union(b)\n",
    "print(c)\n",
    "c = a.intersection(b)\n",
    "print(c)\n",
    "c = a & b \n",
    "print(c)\n",
    "c = a.difference(b)\n",
    "print(c)\n",
    "c = a - b\n",
    "print(c)\n",
    "c = a.symmetric_difference(b)\n",
    "print(c)\n",
    "c = a ^ b\n",
    "print(c)\n",
    "\n"
   ]
  },
  {
   "cell_type": "markdown",
   "metadata": {},
   "source": [
    "Các toán tử\n",
    "- &:Phép and\n",
    "- |:Phép or\n",
    "- ^:Phép xor\n",
    "- ~: biểu diễn số âm ~44==-45\n",
    "- >> and << : dịch bit"
   ]
  },
  {
   "cell_type": "code",
   "execution_count": 412,
   "metadata": {},
   "outputs": [
    {
     "name": "stdout",
     "output_type": "stream",
     "text": [
      "True\n",
      "False\n"
     ]
    }
   ],
   "source": [
    "a = True & False\n",
    "print(~44==-45)\n",
    "print(False and (False or True))"
   ]
  },
  {
   "cell_type": "markdown",
   "metadata": {},
   "source": [
    "Kiểu số:\n",
    "- Mã hóa số:\n",
    "+ print ('x\\97\\x98'): \\xnum là mã hóa cho một kí tự và 98 ko có trong mã ascii\n",
    "- Integer:\n",
    "    + 123, -24, 0, 9999999\n",
    "    + unlimited size\n",
    "- Float:\n",
    "    + 1.23, 1. 3.14e-10, 4E210, 4.0e+210\n",
    "    + 3.14e-n == 3.14*(10**-n)\n",
    "    + 4En == 4*(10**n) == 4.0e+n\n",
    "- Octal, hex, bin\n",
    "    + 0o177, 0x9ff, 0b101\n",
    "- Complex:\n",
    "    + 3+4j, 3.0+4.4j, 3j , 1+0j, 0j\n",
    "    + có thể thay thế j = J\n",
    "- Fraction, Decimal:\n",
    "    + Fraction: là kiểu phân số Fraction(tử số, mẫu số)\n",
    "- Format\n",
    "    + '%4.2type'%num: 4 là tổng độ dài, .2 là số chữ số sau dấu'.' \n",
    "    + type:\n",
    "        * f là float\n",
    "        * e là kiểu mũ\n",
    "- Function:\n",
    "    + fabs(x):lấy trị tuyệt đối\n",
    "    + ceil(x): lấy số nguyên nhỏ nhất không nhỏ hơn x\n",
    "    + floor(x): lấy số nguyên lớn nhất không lớn hơn x\n",
    "    + round(x,num): x là số làm tròn, num là làm tròn tới chữ số nào sau dấu .\n",
    "    + gcd(a,b): tìm ước chung lớn nhất\n"
   ]
  },
  {
   "cell_type": "code",
   "execution_count": 16,
   "metadata": {},
   "outputs": [
    {
     "name": "stdout",
     "output_type": "stream",
     "text": [
      "2.0\n",
      "5\n",
      "6\n"
     ]
    }
   ],
   "source": [
    "import math\n",
    "\n",
    "\n",
    "print(math.fabs(2))\n",
    "print(math.gcd(10,5))\n",
    "print(round(5.6))"
   ]
  },
  {
   "cell_type": "markdown",
   "metadata": {},
   "source": [
    "file:\n",
    "    read(x): x là số kí tự đọc nếu không có sẽ đọc hết\n",
    "    readline(x): đọc số kí tự trên 1 dòng\n",
    "    readlines(x): đọc hết các dòng rồi trả về listx"
   ]
  },
  {
   "cell_type": "code",
   "execution_count": 408,
   "metadata": {},
   "outputs": [
    {
     "name": "stdout",
     "output_type": "stream",
     "text": [
      "abcdefgh\n",
      "\n"
     ]
    }
   ],
   "source": [
    "a = open(\"a.txt\")\n",
    "\n",
    "\n",
    "tmp = a.readline()\n",
    "print(tmp)\n",
    "a.close()"
   ]
  },
  {
   "cell_type": "code",
   "execution_count": 46,
   "metadata": {},
   "outputs": [
    {
     "name": "stdout",
     "output_type": "stream",
     "text": [
      "['a', 'b', 'c']\n"
     ]
    }
   ],
   "source": [
    "l = list('abc')\n",
    "print(l)"
   ]
  }
 ],
 "metadata": {
  "kernelspec": {
   "display_name": "Python 3",
   "language": "python",
   "name": "python3"
  },
  "language_info": {
   "codemirror_mode": {
    "name": "ipython",
    "version": 3
   },
   "file_extension": ".py",
   "mimetype": "text/x-python",
   "name": "python",
   "nbconvert_exporter": "python",
   "pygments_lexer": "ipython3",
   "version": "3.11.2"
  },
  "orig_nbformat": 4
 },
 "nbformat": 4,
 "nbformat_minor": 2
}
