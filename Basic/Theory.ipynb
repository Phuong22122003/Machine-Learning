{
 "cells": [
  {
   "cell_type": "markdown",
   "metadata": {},
   "source": [
    "list:\n",
    "- append(): adding in the end of the list\n",
    "- count(x): count the number of elements x in list\n",
    "- extend(x): adding all elements of an iterable like tuple,list,string  \n",
    "- pop(index): index=-1 get value at default index =-1. if index is out of list, error will occur\n",
    "- insert(index,value): insert value at specific index, if l.insert(len(l),value) = append()\n",
    "- remove(x): remove first element where its value is equal to x. If this value not in list, it throw error \n",
    "- sort(): sort all elements of the same type in itself\n",
    "- min,max,sum: calculate sum of all item in list. if they are not of the same type, error will occur\n",
    "- reverse(): return None and reverse your list"
   ]
  },
  {
   "cell_type": "code",
   "execution_count": 14,
   "metadata": {},
   "outputs": [
    {
     "name": "stdout",
     "output_type": "stream",
     "text": [
      "[1, 4, 5, 6, 7, 8, 9]\n",
      "['a', 'b', 'c', 'd', 'e', 'f', 'g', 'h', 'h', 'e', 'l', 'l', 'o']\n",
      "[1, 2, 3, 4, 5, 6, 7, 8]\n",
      "2\n"
     ]
    }
   ],
   "source": [
    "l = [1,2,3,4,5,6,7,8,9,'a']\n",
    "a = l.__delitem__(1)\n",
    "a=l.pop(1)\n",
    "a = l.remove('a')\n",
    "print(l)\n",
    "a = ['a','b','c']\n",
    "a.extend(['d','e','f'])\n",
    "a.extend(('g','h'))\n",
    "a.extend('hello')\n",
    "print(a)\n",
    "a = [1, 2, 7, 8]\n",
    "a[1:2] = [2,3,4,5,6]\n",
    "print(a)\n",
    "b = [1,2]\n",
    "print(b.pop(1))"
   ]
  },
  {
   "cell_type": "markdown",
   "metadata": {},
   "source": [
    "String:\n",
    "• Phương thức count(x,[start,end]): đếm số phần tử trong chuổi. Nếu không có tham số thì sẽ đếm hết tất cả các kí tự và kí tự '\\n'\n",
    "• Phương thức capitalize(): Chỉ viết hoa chữ cái đầu trong câu nếu trong câu có nhiều chỗ viết hoa vẫn đưa về viết thường\n",
    "• Phương thức upper(): Viết hoa tất cả các chữ\n",
    "• Phương thức lower(): Viết thường tất cả các chữ\n",
    "• Phương thức title(): Viết hoa tất cả chữ cái đầu mỗi từ\n",
    "• Phương thức lstrip(value): xóa tất cả các value bên trái đến khi găp kí tự khác \n",
    "• Phương thức strip(Value): Xóa tất cả các value bên trái và bên phải đến khi gặp kí tự khác. Mặt định là xóa các kí trắng và xuống dòng\n",
    "• Phương thức split(value,num): Chia các chữ ra thành một list. num là số lần chia\n",
    "• Phương thức join(): <Kí tự nối>.join(('abc','cdf','egh'))\n",
    "• Phương thức find(substring,[start,end]): Tìm các chuỗi con và trả về vị trí phát hiện\n",
    "• Phương thức replace(old,new,[count]):print(\"aaaaa\".replace('a','b',1))\n",
    "• Phương thức center(length,determent):a = \"abc\";a = a.center(3,'_')\n",
    "• Phương thức rjust(length,determent):chèn qua bên trái chuỗi\n",
    "• Phương thức isnumeric(): kiểm tra chuỗi đó có chứa toàn số hay ko\n",
    "*Format:\n",
    "    +  '%x'%('value'):\n",
    "        +   x = c: value must char type\n",
    "        +   x = d: integer\n",
    "        +   x = x: hex\n",
    "        ...\n",
    "    + f'Hello {variable}'\n",
    "    + 'Hello {index} {key}'.format(5,key = 10)"
   ]
  },
  {
   "cell_type": "code",
   "execution_count": 1,
   "metadata": {},
   "outputs": [
    {
     "name": "stdout",
     "output_type": "stream",
     "text": [
      "hello Bob\n",
      "Hello Bob and bye, Davis\n",
      "\n",
      "xin chào\n",
      "\n"
     ]
    }
   ],
   "source": [
    "\n",
    "a = 'Bob'\n",
    "b = 'Davis'\n",
    "print(f'hello {a}')\n",
    "print('Hello {0} {key}, {1}'.format(a,b,key = 'and bye'))\n",
    "\n",
    "a = '''\n",
    "xin chào\n",
    "'''\n",
    "print(a)"
   ]
  },
  {
   "cell_type": "markdown",
   "metadata": {},
   "source": [
    "Dictionary:\n",
    "    + get(key,default value): if not found key it will return None or default value\n",
    "    + __delitem__(key): \n",
    "    + clear(): delete all item\n",
    "    + items(): all values\n",
    "    "
   ]
  },
  {
   "cell_type": "code",
   "execution_count": 353,
   "metadata": {},
   "outputs": [
    {
     "name": "stdout",
     "output_type": "stream",
     "text": [
      "['a', 'b', 'c']\n",
      "{1: 2, 5: 2}\n",
      "{'a': 'xin chào', 'b': 'chào lại'}\n",
      "abc\n",
      "(1, 'abc')\n",
      "(2, 'abc')\n"
     ]
    }
   ],
   "source": [
    "dic = {'a':1,'c':2,'b':3}\n",
    "dic  = sorted(dic)\n",
    "print(dic)\n",
    "dic = [[1,2],[5,2]]\n",
    "dic = dict(dic)\n",
    "print(dic)\n",
    "a = dict(a=\"xin chào\",b = \"chào lại\")\n",
    "print(a)\n",
    "a = (1,2)\n",
    "b = \"abc\"\n",
    "c = dict.fromkeys(a,b)\n",
    "print(c.get(1))\n",
    "c.pop('a',\"KHONG CO\")\n",
    "for i in c.items():\n",
    "    print(i)"
   ]
  },
  {
   "cell_type": "markdown",
   "metadata": {},
   "source": [
    "tupple:\n",
    "- tuple can't assign\n",
    "- Tuples also have two type-specific callable methods:\n",
    "    + count(x): return the number of times the given element appears in the tupe\n",
    "- tupe(x): x must iterable\n",
    "- when print((a,)): result is (a,)\n",
    "- We can use + operator to combine two tuples."
   ]
  },
  {
   "cell_type": "code",
   "execution_count": 354,
   "metadata": {},
   "outputs": [
    {
     "name": "stdout",
     "output_type": "stream",
     "text": [
      "((1, 2), (3, 4))\n"
     ]
    }
   ],
   "source": [
    "a = (1,2)\n",
    "b = (3,4)\n",
    "c =(a,) + (b,)\n",
    "print(c)"
   ]
  },
  {
   "cell_type": "markdown",
   "metadata": {},
   "source": [
    "set:\n",
    "+ set.pop(): xóa phần tử đầu\n",
    "+ set không chứa các phần tử mutable như list hoặc các đối tượng unhashable type\n",
    "+ discard(x): xóa phần tử đó trong set nếu không có thì bỏ qua\n",
    "+ remove(x): xóa phần tử nếu không có thì sẽ gây ra lỗi\n",
    "\n",
    "+ union() <=> | : A.union(B) hoặc A|B\n",
    "+ intersection <=> & : A.intersection(B) hoặc A&B đây là phép giao\n",
    "+ difference() <=> -: A.difference(B) hoặc A - B đây là phép hiệu\n",
    "+ symmetric_difference() <=> ^: Phép xor "
   ]
  },
  {
   "cell_type": "code",
   "execution_count": 386,
   "metadata": {},
   "outputs": [
    {
     "name": "stdout",
     "output_type": "stream",
     "text": [
      "{1, 2, 3, 4, 5, 6, 7, 8, 9, 10}\n",
      "{1, 2, 3, 4, 5, 6, 7, 8, 9, 10}\n",
      "{1, 2, 3}\n",
      "{1, 2, 3}\n",
      "{4, 5, 6}\n",
      "{4, 5, 6}\n",
      "{4, 5, 6, 7, 8, 9, 10}\n",
      "{4, 5, 6, 7, 8, 9, 10}\n"
     ]
    }
   ],
   "source": [
    "a = {1,2,3,4,5,6}\n",
    "b = {7,8,9,1,2,3,10}\n",
    "c = a|b\n",
    "print(c)\n",
    "c = a.union(b)\n",
    "print(c)\n",
    "c = a.intersection(b)\n",
    "print(c)\n",
    "c = a & b \n",
    "print(c)\n",
    "c = a.difference(b)\n",
    "print(c)\n",
    "c = a - b\n",
    "print(c)\n",
    "c = a.symmetric_difference(b)\n",
    "print(c)\n",
    "c = a ^ b\n",
    "print(c)\n",
    "\n"
   ]
  },
  {
   "cell_type": "markdown",
   "metadata": {},
   "source": [
    "Các toán tử\n",
    "- &:Phép and\n",
    "- |:Phép or\n",
    "- ^:Phép xor\n",
    "- ~: biểu diễn số âm ~44==-45\n",
    "- >> and << : dịch bit"
   ]
  },
  {
   "cell_type": "code",
   "execution_count": 412,
   "metadata": {},
   "outputs": [
    {
     "name": "stdout",
     "output_type": "stream",
     "text": [
      "True\n",
      "False\n"
     ]
    }
   ],
   "source": [
    "a = True & False\n",
    "print(~44==-45)\n",
    "print(False and (False or True))"
   ]
  },
  {
   "cell_type": "markdown",
   "metadata": {},
   "source": [
    "Kiểu số:\n",
    "- Mã hóa số:\n",
    "+ print ('x\\97\\x98'): \\xnum là mã hóa cho một kí tự và 98 ko có trong mã ascii\n",
    "- Integer:\n",
    "    + 123, -24, 0, 9999999\n",
    "    + unlimited size\n",
    "- Float:\n",
    "    + 1.23, 1. 3.14e-10, 4E210, 4.0e+210\n",
    "    + 3.14e-n == 3.14*(10**-n)\n",
    "    + 4En == 4*(10**n) == 4.0e+n\n",
    "- Octal, hex, bin\n",
    "    + 0o177, 0x9ff, 0b101\n",
    "- Complex:\n",
    "    + 3+4j, 3.0+4.4j, 3j , 1+0j, 0j\n",
    "    + có thể thay thế j = J\n",
    "- Fraction, Decimal:\n",
    "    + Fraction: là kiểu phân số Fraction(tử số, mẫu số)\n",
    "- Format\n",
    "    + '%4.2type'%num: 4 là tổng độ dài, .2 là số chữ số sau dấu'.' \n",
    "    + type:\n",
    "        * f là float\n",
    "        * e là kiểu mũ\n",
    "- Function:\n",
    "    + fabs(x):lấy trị tuyệt đối\n",
    "    + ceil(x): lấy số nguyên nhỏ nhất không nhỏ hơn x\n",
    "    + floor(x): lấy số nguyên lớn nhất không lớn hơn x\n",
    "    + round(x,num): x là số làm tròn, num là làm tròn tới chữ số nào sau dấu .\n",
    "    + gcd(a,b): tìm ước chung lớn nhất\n"
   ]
  },
  {
   "cell_type": "code",
   "execution_count": 16,
   "metadata": {},
   "outputs": [
    {
     "name": "stdout",
     "output_type": "stream",
     "text": [
      "2.0\n",
      "5\n",
      "6\n"
     ]
    }
   ],
   "source": [
    "import math\n",
    "\n",
    "\n",
    "print(math.fabs(2))\n",
    "print(math.gcd(10,5))\n",
    "print(round(5.6))"
   ]
  },
  {
   "cell_type": "markdown",
   "metadata": {},
   "source": [
    "file:\n",
    "    read(x): x là số kí tự đọc nếu không có sẽ đọc hết\n",
    "    readline(x): đọc số kí tự trên 1 dòng\n",
    "    readlines(x): đọc hết các dòng rồi trả về listx\n",
    "    open(mode = 'a'): đọc mà không xóa nội dung củ"
   ]
  },
  {
   "cell_type": "code",
   "execution_count": 408,
   "metadata": {},
   "outputs": [
    {
     "name": "stdout",
     "output_type": "stream",
     "text": [
      "abcdefgh\n",
      "\n"
     ]
    }
   ],
   "source": [
    "a = open(\"a.txt\")\n",
    "\n",
    "\n",
    "tmp = a.readline()\n",
    "print(tmp)\n",
    "a.close()"
   ]
  },
  {
   "cell_type": "markdown",
   "metadata": {},
   "source": [
    "TKINTER\n",
    "-   setup interface\n",
    "    root = tk.Tk()\n",
    "    root.mainloop()\n",
    "- label:\n",
    "    + create new object lable with method tk.Lable(root, text = '...', ....)\n",
    "    + adjust text in lable by config(text = '...')\n",
    "- geometry:\n",
    "    adjust size of interface by method:\n",
    "        + root.geometry('horizontal x  vertical')"
   ]
  },
  {
   "cell_type": "code",
   "execution_count": 1,
   "metadata": {},
   "outputs": [],
   "source": [
    "import tkinter as tk\n",
    "root = tk.Tk()\n",
    "root.geometry('100x100')\n",
    "label = tk.Label(root,text = \"HELLO\")\n",
    "label.pack()\n",
    "label.config(text= \"abc\")\n",
    "root.mainloop()"
   ]
  },
  {
   "cell_type": "markdown",
   "metadata": {},
   "source": [
    "Class:\n",
    "    - When we call a method of this object as myobject.method(arg1, arg2), this is automatically converted by Python into MyClass.method(myobject, arg1, arg2)\n",
    "    - we have 2 type of variable:\n",
    "        + instance variable: it's defined in method and depends on its instance\n",
    "        + class variable: it's defined in class, all instance can retrive it with same value return. we can't change it with other objects\n",
    "    - We have 3 ways to create variable with different access permissions:\n",
    "        + public: self.a\n",
    "        + private: self.__a\n",
    "        + protected: self._a"
   ]
  },
  {
   "cell_type": "code",
   "execution_count": null,
   "metadata": {},
   "outputs": [],
   "source": [
    "class student:\n",
    "    __class_name = 'student'\n",
    "    def __init__(self,name) -> None:\n",
    "        self._name = name\n",
    "        name1= name\n",
    "    def getName(self):\n",
    "        return self._name\n",
    "    def changeClassName(self,new_name):\n",
    "        self.class_name = new_name\n",
    "a =student('abc')\n",
    "print(a.getName())\n",
    "print(a.__class_name)\n",
    "a.changeClassName('def')\n",
    "print(a._name)\n",
    "\n",
    "a =student('123')\n",
    "print(a.getName())\n",
    "print(a.__class_name)\n"
   ]
  }
 ],
 "metadata": {
  "kernelspec": {
   "display_name": "Python 3",
   "language": "python",
   "name": "python3"
  },
  "language_info": {
   "codemirror_mode": {
    "name": "ipython",
    "version": 3
   },
   "file_extension": ".py",
   "mimetype": "text/x-python",
   "name": "python",
   "nbconvert_exporter": "python",
   "pygments_lexer": "ipython3",
   "version": "3.11.2"
  },
  "orig_nbformat": 4
 },
 "nbformat": 4,
 "nbformat_minor": 2
}
