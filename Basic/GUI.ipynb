{
 "cells": [
  {
   "cell_type": "code",
   "execution_count": 6,
   "metadata": {},
   "outputs": [],
   "source": [
    "import numpy as np\n",
    "import tensorflow as tf\n",
    "from tensorflow.keras.datasets import mnist\n",
    "from tensorflow.keras.models import Sequential\n",
    "from tensorflow.keras.layers import Flatten, Dense, InputLayer\n",
    "from tensorflow.keras.utils import to_categorical\n",
    "from matplotlib import pyplot as plt\n",
    "\n",
    "# Tải dữ liệu MNIST và chia thành tập huấn luyện và tập kiểm tra\n",
    "(train_images, train_labels), (test_images, test_labels) = mnist.load_data()\n",
    "\n",
    "# Chuẩn hóa dữ liệu và chuyển đổi nhãn thành one-hot encoding\n",
    "train_images = train_images.astype('float32') / 255\n",
    "test_images = test_images.astype('float32') / 255\n",
    "\n",
    "train_labels = to_categorical(train_labels)\n",
    "test_labels = to_categorical(test_labels)"
   ]
  },
  {
   "cell_type": "code",
   "execution_count": 121,
   "metadata": {},
   "outputs": [],
   "source": [
    "from scipy import sparse\n",
    "import random\n",
    "class agent:\n",
    "    def __init__(self,train_images,train_labels):\n",
    "        self.train_images = train_images\n",
    "        self.train_labels = train_labels\n",
    "        self.numOfAction = 10\n",
    "        self.size_batch = 60000\n",
    "        self.epsilon = 0.05\n",
    "        self.apha = 0.1\n",
    "    def neuron_network(self):\n",
    "        model = Sequential()\n",
    "        model.add(Flatten(input_shape=(28, 28))) \n",
    "        model.add(Dense(128, activation='relu'))\n",
    "        model.add(Dense(10))\n",
    "        model.compile(optimizer='adam',loss='mse',metrics=['accuracy'])\n",
    "        return model\n",
    "    def predict(self,image):\n",
    "        action = np.argmax(self.model.predict(image.reshape(1,28,28),verbose = 0))\n",
    "        return action\n",
    "    def get_reward(self,action,index):\n",
    "        #dùng index thay cho state để lấy trạng thái\n",
    "        predict_number = action\n",
    "        reward = -1\n",
    "        if predict_number == np.argmax(self.train_labels[index]):\n",
    "            reward = 1\n",
    "        return reward\n",
    "    def train(self):\n",
    "        self.model = self.neuron_network()\n",
    "        for i in range(10):\n",
    "            States = np.zeros((self.size_batch,784))\n",
    "            for index in range(self.size_batch):\n",
    "                States[index]= self.train_images[index].reshape(1,784)\n",
    "            qTable = self.model.predict(States.reshape(self.size_batch,28,28))\n",
    "            for index in range(self.size_batch):\n",
    "                if random.uniform(0, 1) < self.epsilon:\n",
    "                    action = np.random.randint(0,10)\n",
    "                else:\n",
    "                    action = np.argmax(qTable[index])\n",
    "                reward = self.get_reward(action,index)\n",
    "                if reward ==-1:\n",
    "                    qTable[index,action] = reward*(1-self.apha)+self.apha*qTable[index,action]\n",
    "                else: qTable[index,action] = reward\n",
    "            States = States.reshape(self.size_batch,28,28)\n",
    "            self.model.fit(States,qTable,epochs = 1,batch_size = 100)\n",
    "                "
   ]
  },
  {
   "cell_type": "code",
   "execution_count": 122,
   "metadata": {},
   "outputs": [
    {
     "name": "stdout",
     "output_type": "stream",
     "text": [
      "1875/1875 [==============================] - 4s 2ms/step\n",
      "600/600 [==============================] - 4s 6ms/step - loss: 0.0710 - accuracy: 0.3671\n",
      "1875/1875 [==============================] - 4s 2ms/step\n",
      "600/600 [==============================] - 3s 6ms/step - loss: 0.0545 - accuracy: 0.5388\n",
      "1875/1875 [==============================] - 4s 2ms/step\n",
      "600/600 [==============================] - 4s 7ms/step - loss: 0.0394 - accuracy: 0.6955\n",
      "1875/1875 [==============================] - 5s 3ms/step\n",
      "600/600 [==============================] - 4s 7ms/step - loss: 0.0303 - accuracy: 0.8104\n",
      "1875/1875 [==============================] - 4s 2ms/step\n",
      "600/600 [==============================] - 4s 6ms/step - loss: 0.0235 - accuracy: 0.8828\n",
      "1875/1875 [==============================] - 4s 2ms/step\n",
      "600/600 [==============================] - 3s 6ms/step - loss: 0.0190 - accuracy: 0.9234\n",
      "1875/1875 [==============================] - 4s 2ms/step\n",
      "600/600 [==============================] - 3s 6ms/step - loss: 0.0157 - accuracy: 0.9515\n",
      "1875/1875 [==============================] - 4s 2ms/step\n",
      "600/600 [==============================] - 3s 5ms/step - loss: 0.0132 - accuracy: 0.9654\n",
      "1875/1875 [==============================] - 4s 2ms/step\n",
      "600/600 [==============================] - 3s 6ms/step - loss: 0.0115 - accuracy: 0.9741\n",
      "1875/1875 [==============================] - 4s 2ms/step\n",
      "600/600 [==============================] - 3s 6ms/step - loss: 0.0102 - accuracy: 0.9785\n"
     ]
    }
   ],
   "source": [
    "ag = agent(train_images,train_labels)\n",
    "ag.train()"
   ]
  },
  {
   "cell_type": "code",
   "execution_count": null,
   "metadata": {},
   "outputs": [],
   "source": [
    "count =0\n",
    "for i in range(1000):\n",
    "    action = ag.predict(test_images[i])\n",
    "    if(np.argmax(test_labels[i])==action):count +=1\n",
    "    # print(\"=====================================================================\")\n",
    "print(count)"
   ]
  },
  {
   "cell_type": "code",
   "execution_count": 7,
   "metadata": {},
   "outputs": [],
   "source": [
    "import cv2\n",
    "for i in range(10000):\n",
    "    folder = np.argmax(test_labels[i])\n",
    "    # D:\\WorkSpace\\Source\\python\\Algorithm\\Data\n",
    "    img = cv2.imwrite(\"D:/WorkSpace/Source/python/Algorithm/Data/\"+str(folder)+\"/img\"+str(i)+\".jpg\",test_images[i])"
   ]
  },
  {
   "cell_type": "code",
   "execution_count": 10,
   "metadata": {},
   "outputs": [
    {
     "data": {
      "text/plain": [
       "-1"
      ]
     },
     "execution_count": 10,
     "metadata": {},
     "output_type": "execute_result"
    }
   ],
   "source": [
    "import cv2\n",
    "from matplotlib import pyplot as plt\n",
    "a= cv2.imread(\"D:/WorkSpace/Source/python/Algorithm/Data/0/img3.jpg\")\n",
    "\n",
    "a=cv2.resize(a,(500,500))\n",
    "# plt.imshow(a)\n",
    "cv2.imshow(\"a\",a)\n",
    "cv2.waitKey(0)"
   ]
  },
  {
   "cell_type": "code",
   "execution_count": null,
   "metadata": {},
   "outputs": [],
   "source": [
    "import tkinter as tk\n",
    "\n",
    "def on_checkbox_click():\n",
    "    if checkbox_var.get():\n",
    "        label.config(text=\"Ô đang được kích\")\n",
    "    else:\n",
    "        label.config(text=\"Ô không được kích\")\n",
    "\n",
    "# Tạo cửa sổ gốc\n",
    "root = tk.Tk()\n",
    "root.title(\"Ví dụ ô để kích\")\n",
    "\n",
    "# Tạo biến kiểu IntVar để lưu trạng thái của ô kích\n",
    "checkbox_var = tk.IntVar()\n",
    "\n",
    "# Tạo ô để kích\n",
    "checkbox = tk.Checkbutton(root, text=\"Kích tôi\", variable=checkbox_var, command=on_checkbox_click)\n",
    "checkbox.pack()\n",
    "\n",
    "# Tạo một nhãn để hiển thị trạng thái của ô kích\n",
    "label = tk.Label(root, text=\"Ô không được kích\")\n",
    "label.pack()\n",
    "\n",
    "root.mainloop()\n"
   ]
  },
  {
   "cell_type": "code",
   "execution_count": null,
   "metadata": {},
   "outputs": [],
   "source": [
    "import tkinter as tk\n",
    "\n",
    "class DrawingApp:\n",
    "    def __init__(self, root):\n",
    "        self.root = root\n",
    "        self.root.title(\"Vẽ tự do\")\n",
    "        \n",
    "        # Tạo một canvas để vẽ trên\n",
    "        self.canvas = tk.Canvas(root, bg=\"white\", width=400, height=400)\n",
    "        self.canvas.pack()\n",
    "        \n",
    "        # Bắt đầu vẽ khi nhấn chuột trái\n",
    "        self.canvas.bind(\"<Button-1>\", self.start_drawing)\n",
    "        \n",
    "        # Kết thúc vẽ khi nhả chuột trái\n",
    "        self.canvas.bind(\"<ButtonRelease-1>\", self.stop_drawing)\n",
    "        \n",
    "        # Vẽ khi di chuyển chuột\n",
    "        self.canvas.bind(\"<B1-Motion>\", self.draw)\n",
    "        \n",
    "        # Tạo một biến để xác định xem có đang vẽ không\n",
    "        self.drawing = False\n",
    "        \n",
    "        # Lưu tọa độ điểm đầu và điểm cuối khi vẽ\n",
    "        self.start_x = None\n",
    "        self.start_y = None\n",
    "        self.end_x = None\n",
    "        self.end_y = None\n",
    "\n",
    "    def start_drawing(self, event):\n",
    "        self.drawing = True\n",
    "        self.start_x = event.x\n",
    "        self.start_y = event.y\n",
    "\n",
    "    def stop_drawing(self, event):\n",
    "        self.drawing = False\n",
    "\n",
    "    def draw(self, event):\n",
    "        if self.drawing:\n",
    "            self.end_x = event.x\n",
    "            self.end_y = event.y\n",
    "            self.canvas.create_line(self.start_x, self.start_y, self.end_x, self.end_y, fill=\"black\")\n",
    "            self.start_x = self.end_x\n",
    "            self.start_y = self.end_y\n",
    "\n",
    "if __name__ == \"__main__\":\n",
    "    root = tk.Tk()\n",
    "    app = DrawingApp(root)\n",
    "    root.mainloop()\n"
   ]
  }
 ],
 "metadata": {
  "kernelspec": {
   "display_name": "Python 3",
   "language": "python",
   "name": "python3"
  },
  "language_info": {
   "codemirror_mode": {
    "name": "ipython",
    "version": 3
   },
   "file_extension": ".py",
   "mimetype": "text/x-python",
   "name": "python",
   "nbconvert_exporter": "python",
   "pygments_lexer": "ipython3",
   "version": "3.11.2"
  },
  "orig_nbformat": 4
 },
 "nbformat": 4,
 "nbformat_minor": 2
}
